{
 "cells": [
  {
   "cell_type": "markdown",
   "id": "7147ed5d-f4a2-44e9-be9c-787b1153ef2d",
   "metadata": {},
   "source": [
    "# Introduction à Python"
   ]
  },
  {
   "cell_type": "markdown",
   "id": "91481234-9cc2-4487-8a52-59a1b6213de3",
   "metadata": {},
   "source": [
    "## Principes"
   ]
  },
  {
   "cell_type": "code",
   "execution_count": 1,
   "id": "45683835-75ab-4944-83ce-5b5d9c7ebfa2",
   "metadata": {},
   "outputs": [
    {
     "name": "stdout",
     "output_type": "stream",
     "text": [
      "The Zen of Python, by Tim Peters\n",
      "\n",
      "Beautiful is better than ugly.\n",
      "Explicit is better than implicit.\n",
      "Simple is better than complex.\n",
      "Complex is better than complicated.\n",
      "Flat is better than nested.\n",
      "Sparse is better than dense.\n",
      "Readability counts.\n",
      "Special cases aren't special enough to break the rules.\n",
      "Although practicality beats purity.\n",
      "Errors should never pass silently.\n",
      "Unless explicitly silenced.\n",
      "In the face of ambiguity, refuse the temptation to guess.\n",
      "There should be one-- and preferably only one --obvious way to do it.\n",
      "Although that way may not be obvious at first unless you're Dutch.\n",
      "Now is better than never.\n",
      "Although never is often better than *right* now.\n",
      "If the implementation is hard to explain, it's a bad idea.\n",
      "If the implementation is easy to explain, it may be a good idea.\n",
      "Namespaces are one honking great idea -- let's do more of those!\n"
     ]
    }
   ],
   "source": [
    "import this"
   ]
  },
  {
   "cell_type": "markdown",
   "id": "272b7b33-fed3-47d5-8b06-d40c60fe5502",
   "metadata": {},
   "source": [
    "## Mots clés\n",
    "\n",
    "35 mots clés pour comprendre et maitriser le langage"
   ]
  },
  {
   "cell_type": "code",
   "execution_count": 2,
   "id": "560f53ef-96b3-4107-ad52-e9d824438c75",
   "metadata": {},
   "outputs": [
    {
     "name": "stdout",
     "output_type": "stream",
     "text": [
      "False None True and as assert async await break class continue def del elif else except finally for from global if import in is lambda nonlocal not or pass raise return try while with yield\n"
     ]
    }
   ],
   "source": [
    "import keyword\n",
    "print(*keyword.kwlist)"
   ]
  },
  {
   "cell_type": "code",
   "execution_count": 3,
   "id": "feaffcd0-b517-452d-8070-976d321704eb",
   "metadata": {},
   "outputs": [
    {
     "data": {
      "text/plain": [
       "35"
      ]
     },
     "execution_count": 3,
     "metadata": {},
     "output_type": "execute_result"
    }
   ],
   "source": [
    "len(keyword.kwlist)"
   ]
  },
  {
   "cell_type": "markdown",
   "id": "4f7bf572-50e4-493a-95b2-5915160cc942",
   "metadata": {},
   "source": [
    "### L'indentation"
   ]
  },
  {
   "cell_type": "code",
   "execution_count": 4,
   "id": "47e99ebd-3bd3-4d4b-ad8f-5c21150b36b8",
   "metadata": {},
   "outputs": [
    {
     "name": "stdout",
     "output_type": "stream",
     "text": [
      "Nombre impaire\n"
     ]
    }
   ],
   "source": [
    "a = 11\n",
    "if a%2==0:\n",
    "    print(\"Nombre paire\")\n",
    "else:\n",
    "    print(\"Nombre impaire\")\n",
    "\n",
    "def pgcd(a,b):\n",
    "    while b != 0:\n",
    "        a,b = b, a%b\n",
    "    return a\n"
   ]
  },
  {
   "cell_type": "markdown",
   "id": "900e37f9-83fb-4d22-918a-039c6c793da1",
   "metadata": {},
   "source": [
    "### Les variables"
   ]
  },
  {
   "cell_type": "code",
   "execution_count": 5,
   "id": "dd153389-2c48-48d8-b7c0-2b25610ea948",
   "metadata": {},
   "outputs": [],
   "source": [
    "car = \"Telsa\"\n",
    "speed = 130\n",
    "is_enabled = False\n",
    "temperature = 36.5"
   ]
  },
  {
   "cell_type": "markdown",
   "id": "99b9d521-2adb-4514-914d-9e0f924f029c",
   "metadata": {},
   "source": [
    "### Typage dynamique mais fort"
   ]
  },
  {
   "cell_type": "markdown",
   "id": "93fda97f-fb93-4b16-bce6-5bdf223ccc80",
   "metadata": {
    "tags": []
   },
   "source": [
    "Python détermine dynamiquement les types des variables. \n",
    "Enfin, on ne peut pas additionner des variables de types différents"
   ]
  },
  {
   "cell_type": "code",
   "execution_count": 6,
   "id": "a7c8a264-1009-440d-ada9-e241631b2f0b",
   "metadata": {},
   "outputs": [
    {
     "name": "stdout",
     "output_type": "stream",
     "text": [
      "109.8   <class 'float'>\n"
     ]
    }
   ],
   "source": [
    "x = 2\n",
    "y = 59.3\n",
    "c = \"Un test\"\n",
    "z = 99.8\n",
    "text_num = \"10\"\n",
    "ret = z + float(text_num)\n",
    "print(ret, \" \", type(ret))"
   ]
  },
  {
   "cell_type": "code",
   "execution_count": 7,
   "id": "70227864-3913-44c6-beb2-37efbbd81ca1",
   "metadata": {},
   "outputs": [
    {
     "name": "stdout",
     "output_type": "stream",
     "text": [
      "0\n"
     ]
    }
   ],
   "source": [
    "state = False\n",
    "print(int(state))"
   ]
  },
  {
   "cell_type": "code",
   "execution_count": 8,
   "id": "44507710-5a31-47f0-bab8-3f727ccecc05",
   "metadata": {},
   "outputs": [],
   "source": [
    "v = str(state)"
   ]
  },
  {
   "cell_type": "code",
   "execution_count": 9,
   "id": "79b0f576-cb7f-4556-9bde-143d4f0b1680",
   "metadata": {},
   "outputs": [
    {
     "name": "stdout",
     "output_type": "stream",
     "text": [
      "<class 'str'> False\n"
     ]
    }
   ],
   "source": [
    "print(type(v), v)"
   ]
  },
  {
   "cell_type": "code",
   "execution_count": 10,
   "id": "6b3c7265-d99c-4808-bcc6-c308e2aa4c76",
   "metadata": {},
   "outputs": [
    {
     "ename": "TypeError",
     "evalue": "can only concatenate str (not \"int\") to str",
     "output_type": "error",
     "traceback": [
      "\u001b[0;31m---------------------------------------------------------------------------\u001b[0m",
      "\u001b[0;31mTypeError\u001b[0m                                 Traceback (most recent call last)",
      "\u001b[0;32m/var/folders/4h/2pzybx4n3231mqxf73w1vsdc0000gn/T/ipykernel_90130/2525282387.py\u001b[0m in \u001b[0;36m<module>\u001b[0;34m\u001b[0m\n\u001b[0;32m----> 1\u001b[0;31m \u001b[0mc\u001b[0m \u001b[0;34m+\u001b[0m \u001b[0mx\u001b[0m\u001b[0;34m\u001b[0m\u001b[0;34m\u001b[0m\u001b[0m\n\u001b[0m",
      "\u001b[0;31mTypeError\u001b[0m: can only concatenate str (not \"int\") to str"
     ]
    }
   ],
   "source": [
    "c + x"
   ]
  },
  {
   "cell_type": "markdown",
   "id": "5817b78e-57e6-4032-bb68-83125d2633fa",
   "metadata": {},
   "source": [
    "Mais certaines opérations peuvent fonctionner en combinant des types"
   ]
  },
  {
   "cell_type": "code",
   "execution_count": 11,
   "id": "84c87cc6-a6c8-4b83-8617-c191613f4c2c",
   "metadata": {},
   "outputs": [
    {
     "name": "stdout",
     "output_type": "stream",
     "text": [
      "<class 'float'> 61.3\n"
     ]
    },
    {
     "data": {
      "text/plain": [
       "'Un testUn test'"
      ]
     },
     "execution_count": 11,
     "metadata": {},
     "output_type": "execute_result"
    }
   ],
   "source": [
    "z = x + y\n",
    "print(type(z), z)\n",
    "\n",
    "c * x"
   ]
  },
  {
   "cell_type": "code",
   "execution_count": 12,
   "id": "0146a46a-a71f-422e-bece-40f6a8695541",
   "metadata": {},
   "outputs": [
    {
     "name": "stdout",
     "output_type": "stream",
     "text": [
      "[10, 10, 10, 10, 10]\n"
     ]
    }
   ],
   "source": [
    "tab = [10] * 5\n",
    "print(tab)"
   ]
  },
  {
   "cell_type": "code",
   "execution_count": 13,
   "id": "ca75db85-692a-4c65-a0e2-854b383db99d",
   "metadata": {},
   "outputs": [
    {
     "data": {
      "text/plain": [
       "int"
      ]
     },
     "execution_count": 13,
     "metadata": {},
     "output_type": "execute_result"
    }
   ],
   "source": [
    "x = 9\n",
    "type(x)"
   ]
  },
  {
   "cell_type": "code",
   "execution_count": 14,
   "id": "72803cc0-de3d-4d2e-b6f5-3f8ec0a575f2",
   "metadata": {},
   "outputs": [
    {
     "data": {
      "text/plain": [
       "float"
      ]
     },
     "execution_count": 14,
     "metadata": {},
     "output_type": "execute_result"
    }
   ],
   "source": [
    "y = 90.8\n",
    "type(y)"
   ]
  },
  {
   "cell_type": "code",
   "execution_count": 15,
   "id": "9bda0cc8-8581-43b7-9423-3a00e6e3e31e",
   "metadata": {},
   "outputs": [
    {
     "data": {
      "text/plain": [
       "float"
      ]
     },
     "execution_count": 15,
     "metadata": {},
     "output_type": "execute_result"
    }
   ],
   "source": [
    "z = x + y\n",
    "type(z)"
   ]
  },
  {
   "cell_type": "code",
   "execution_count": 16,
   "id": "1c2f4554-9567-465c-a0d2-29f9f44c07fb",
   "metadata": {},
   "outputs": [
    {
     "data": {
      "text/plain": [
       "str"
      ]
     },
     "execution_count": 16,
     "metadata": {},
     "output_type": "execute_result"
    }
   ],
   "source": [
    "text_num = '67.9'\n",
    "type(text_num)"
   ]
  },
  {
   "cell_type": "code",
   "execution_count": 17,
   "id": "7e3e17fc-97be-4468-944d-5cc7d0ac7ed4",
   "metadata": {},
   "outputs": [
    {
     "ename": "TypeError",
     "evalue": "unsupported operand type(s) for +: 'float' and 'str'",
     "output_type": "error",
     "traceback": [
      "\u001b[0;31m---------------------------------------------------------------------------\u001b[0m",
      "\u001b[0;31mTypeError\u001b[0m                                 Traceback (most recent call last)",
      "\u001b[0;32m/var/folders/4h/2pzybx4n3231mqxf73w1vsdc0000gn/T/ipykernel_90130/3179608737.py\u001b[0m in \u001b[0;36m<module>\u001b[0;34m\u001b[0m\n\u001b[0;32m----> 1\u001b[0;31m \u001b[0mret\u001b[0m \u001b[0;34m=\u001b[0m \u001b[0mz\u001b[0m \u001b[0;34m+\u001b[0m \u001b[0mtext_num\u001b[0m\u001b[0;34m\u001b[0m\u001b[0;34m\u001b[0m\u001b[0m\n\u001b[0m",
      "\u001b[0;31mTypeError\u001b[0m: unsupported operand type(s) for +: 'float' and 'str'"
     ]
    }
   ],
   "source": [
    "ret = z + text_num"
   ]
  },
  {
   "cell_type": "markdown",
   "id": "5743d8a7-ac66-4f5d-a811-3eb1b79a9e12",
   "metadata": {
    "tags": []
   },
   "source": [
    "### Les chaines de caractères"
   ]
  },
  {
   "cell_type": "code",
   "execution_count": 18,
   "id": "e84bffc0-74e6-4787-a9ee-caa1df3a6360",
   "metadata": {},
   "outputs": [
    {
     "data": {
      "text/plain": [
       "'Hello world'"
      ]
     },
     "execution_count": 18,
     "metadata": {},
     "output_type": "execute_result"
    }
   ],
   "source": [
    "hello = \"Hello\"\n",
    "world = \"world\"\n",
    "hello + \" \" + world"
   ]
  },
  {
   "cell_type": "code",
   "execution_count": 19,
   "id": "13e01a84-ce2d-4a1d-88d9-723ce4e47c8d",
   "metadata": {},
   "outputs": [],
   "source": [
    "une_chaine_simple = 'Une chaine en simple quotes'"
   ]
  },
  {
   "cell_type": "code",
   "execution_count": 20,
   "id": "1bd44643-d92b-4835-b3b5-88ee7017b950",
   "metadata": {},
   "outputs": [],
   "source": [
    "une_chaine_double = 'Une chaine en double quotes'"
   ]
  },
  {
   "cell_type": "code",
   "execution_count": 21,
   "id": "1008b0da-17aa-415f-a1fb-48e41e34f2a4",
   "metadata": {},
   "outputs": [
    {
     "data": {
      "text/plain": [
       "'e'"
      ]
     },
     "execution_count": 21,
     "metadata": {},
     "output_type": "execute_result"
    }
   ],
   "source": [
    "une_chaine_double[2]"
   ]
  },
  {
   "cell_type": "code",
   "execution_count": 22,
   "id": "8b3c0b14-aedb-4d66-aef2-e8419e2d083c",
   "metadata": {},
   "outputs": [
    {
     "data": {
      "text/plain": [
       "'banane est avant orange'"
      ]
     },
     "execution_count": 22,
     "metadata": {},
     "output_type": "execute_result"
    }
   ],
   "source": [
    "\"orange est avant banane\" if \"orange\"<\"banane\" else \"banane est avant orange\""
   ]
  },
  {
   "cell_type": "code",
   "execution_count": 23,
   "id": "3d895c38-bb91-41ba-838a-65f89e10d140",
   "metadata": {},
   "outputs": [
    {
     "ename": "TypeError",
     "evalue": "can only concatenate str (not \"int\") to str",
     "output_type": "error",
     "traceback": [
      "\u001b[0;31m---------------------------------------------------------------------------\u001b[0m",
      "\u001b[0;31mTypeError\u001b[0m                                 Traceback (most recent call last)",
      "\u001b[0;32m/var/folders/4h/2pzybx4n3231mqxf73w1vsdc0000gn/T/ipykernel_90130/916862083.py\u001b[0m in \u001b[0;36m<module>\u001b[0;34m\u001b[0m\n\u001b[1;32m      1\u001b[0m \u001b[0mtemperature\u001b[0m \u001b[0;34m=\u001b[0m \u001b[0;36m10\u001b[0m\u001b[0;34m\u001b[0m\u001b[0;34m\u001b[0m\u001b[0m\n\u001b[0;32m----> 2\u001b[0;31m \u001b[0;34m\"il fait une temperature de \"\u001b[0m \u001b[0;34m+\u001b[0m \u001b[0mtemperature\u001b[0m\u001b[0;34m\u001b[0m\u001b[0;34m\u001b[0m\u001b[0m\n\u001b[0m",
      "\u001b[0;31mTypeError\u001b[0m: can only concatenate str (not \"int\") to str"
     ]
    }
   ],
   "source": [
    "temperature = 10\n",
    "\"il fait une temperature de \" + temperature"
   ]
  },
  {
   "cell_type": "code",
   "execution_count": 24,
   "id": "ca7a3cfc-be29-4100-9e3b-259c53b7acf2",
   "metadata": {},
   "outputs": [
    {
     "data": {
      "text/plain": [
       "'il fait une temperature de 10'"
      ]
     },
     "execution_count": 24,
     "metadata": {},
     "output_type": "execute_result"
    }
   ],
   "source": [
    "\"il fait une temperature de \" + str(temperature)"
   ]
  },
  {
   "cell_type": "code",
   "execution_count": 25,
   "id": "e644c512-df61-47e7-b7b4-252198c54f91",
   "metadata": {
    "tags": []
   },
   "outputs": [
    {
     "name": "stdout",
     "output_type": "stream",
     "text": [
      "Hello Nicolas ! ----- autre ligne\n"
     ]
    }
   ],
   "source": [
    "name = \"Nicolas\"\n",
    "print(\"Hello\", name, \"!\", end=' ----- ')\n",
    "print(\"autre ligne\")"
   ]
  },
  {
   "cell_type": "code",
   "execution_count": 26,
   "id": "af502294-063e-4e80-85fa-76365603e51f",
   "metadata": {},
   "outputs": [
    {
     "name": "stdout",
     "output_type": "stream",
     "text": [
      "Caractére : N\n",
      "Caractére : i\n",
      "Caractére : c\n",
      "Caractére : o\n",
      "Caractére : l\n",
      "Caractére : a\n",
      "Caractére : s\n",
      "Caractère à la position 3 : o\n"
     ]
    }
   ],
   "source": [
    "# Une chaine de caractères peut se manipuler comme un tableau\n",
    "for c in name:\n",
    "    print(f\"Caractére : {c}\")\n",
    "    \n",
    "print(f\"Caractère à la position 3 : {name[3]}\")"
   ]
  },
  {
   "cell_type": "code",
   "execution_count": 27,
   "id": "cb905d43-7b53-4d3d-b6d6-c0b9b9097811",
   "metadata": {},
   "outputs": [
    {
     "name": "stdout",
     "output_type": "stream",
     "text": [
      "\n",
      " La Cigale, ayant chanté\n",
      " Tout l'Été,\n",
      " Se trouva fort dépourvue\n",
      " Quand la bise fut venue.\n",
      " Pas un seul petit morceau\n",
      " ...\n",
      " \n"
     ]
    }
   ],
   "source": [
    "une_grande_chaine = \"\"\"\n",
    " La Cigale, ayant chanté\n",
    " Tout l'Été,\n",
    " Se trouva fort dépourvue\n",
    " Quand la bise fut venue.\n",
    " Pas un seul petit morceau\n",
    " ...\n",
    " \"\"\"\n",
    "\n",
    "print(une_grande_chaine)"
   ]
  },
  {
   "cell_type": "code",
   "execution_count": 28,
   "id": "ad2ebad0-26b0-44cd-b5f3-d935b696fee2",
   "metadata": {},
   "outputs": [
    {
     "name": "stdout",
     "output_type": "stream",
     "text": [
      "True\n",
      "False\n",
      "False\n"
     ]
    }
   ],
   "source": [
    "a = \"Alice\"\n",
    "b = \"Benedicte\"\n",
    "\n",
    "print(a<b)\n",
    "print(a>b)\n",
    "print(a == b)"
   ]
  },
  {
   "cell_type": "code",
   "execution_count": 29,
   "id": "9f3dd659-a1fa-4cc4-a65f-0c69d9b14c3b",
   "metadata": {},
   "outputs": [
    {
     "data": {
      "text/plain": [
       "5"
      ]
     },
     "execution_count": 29,
     "metadata": {},
     "output_type": "execute_result"
    }
   ],
   "source": [
    "len(a)"
   ]
  },
  {
   "cell_type": "markdown",
   "id": "8c2a3a86-d5d1-4915-968d-ca2f92d0f116",
   "metadata": {},
   "source": [
    "Une chaine de caractères est **immutable**"
   ]
  },
  {
   "cell_type": "code",
   "execution_count": 30,
   "id": "f17e7db1-c835-4464-a337-52b53a7ec9c9",
   "metadata": {},
   "outputs": [
    {
     "ename": "TypeError",
     "evalue": "'str' object does not support item assignment",
     "output_type": "error",
     "traceback": [
      "\u001b[0;31m---------------------------------------------------------------------------\u001b[0m",
      "\u001b[0;31mTypeError\u001b[0m                                 Traceback (most recent call last)",
      "\u001b[0;32m/var/folders/4h/2pzybx4n3231mqxf73w1vsdc0000gn/T/ipykernel_90130/814433418.py\u001b[0m in \u001b[0;36m<module>\u001b[0;34m\u001b[0m\n\u001b[1;32m      1\u001b[0m \u001b[0msentence\u001b[0m \u001b[0;34m=\u001b[0m \u001b[0;34m\"Python, un langage super sympa mais consommateur d'énergie\"\u001b[0m\u001b[0;34m\u001b[0m\u001b[0;34m\u001b[0m\u001b[0m\n\u001b[0;32m----> 2\u001b[0;31m \u001b[0msentence\u001b[0m\u001b[0;34m[\u001b[0m\u001b[0;36m1\u001b[0m\u001b[0;34m]\u001b[0m \u001b[0;34m=\u001b[0m \u001b[0;34m\"i\"\u001b[0m\u001b[0;34m\u001b[0m\u001b[0;34m\u001b[0m\u001b[0m\n\u001b[0m",
      "\u001b[0;31mTypeError\u001b[0m: 'str' object does not support item assignment"
     ]
    }
   ],
   "source": [
    "sentence = \"Python, un langage super sympa mais consommateur d'énergie\"\n",
    "sentence[1] = \"i\""
   ]
  },
  {
   "cell_type": "markdown",
   "id": "941b0c87-3fda-4a09-842f-ccbd048ce42b",
   "metadata": {},
   "source": [
    "### Des operations inattendues"
   ]
  },
  {
   "cell_type": "code",
   "execution_count": 31,
   "id": "c98c016d-3f59-4751-a7f7-479f4de3a487",
   "metadata": {},
   "outputs": [
    {
     "data": {
      "text/plain": [
       "'Je vais être répétéJe vais être répétéJe vais être répété'"
      ]
     },
     "execution_count": 31,
     "metadata": {},
     "output_type": "execute_result"
    }
   ],
   "source": [
    "text = \"Je vais être répété\"\n",
    "text * 3"
   ]
  },
  {
   "cell_type": "code",
   "execution_count": 32,
   "id": "d2f69805-2f1a-4fe1-a173-eedc69728834",
   "metadata": {},
   "outputs": [
    {
     "name": "stdout",
     "output_type": "stream",
     "text": [
      "[10, 10, 10, 10, 10]\n"
     ]
    }
   ],
   "source": [
    "tab = [10] * 5\n",
    "print(tab)"
   ]
  },
  {
   "cell_type": "markdown",
   "id": "8c35707c-195f-469a-9294-5e32e49634f5",
   "metadata": {},
   "source": [
    "### Quelques méthodes"
   ]
  },
  {
   "cell_type": "code",
   "execution_count": 33,
   "id": "75d6c16a-b4a3-4811-adea-f76a3b2666a3",
   "metadata": {},
   "outputs": [
    {
     "data": {
      "text/plain": [
       "'Python : un langage tout puissant'"
      ]
     },
     "execution_count": 33,
     "metadata": {},
     "output_type": "execute_result"
    }
   ],
   "source": [
    "\"python : un langage tout puissant\".capitalize()"
   ]
  },
  {
   "cell_type": "code",
   "execution_count": 34,
   "id": "324570e1-87da-4b70-8eaf-971b43ba1932",
   "metadata": {},
   "outputs": [
    {
     "data": {
      "text/plain": [
       "'Python : Un Langage Tout Puissant'"
      ]
     },
     "execution_count": 34,
     "metadata": {},
     "output_type": "execute_result"
    }
   ],
   "source": [
    "'python : Un langage tout puissant'.title()"
   ]
  },
  {
   "cell_type": "code",
   "execution_count": 35,
   "id": "ee7c28c3-f695-419a-9580-99be7d109b55",
   "metadata": {},
   "outputs": [
    {
     "data": {
      "text/plain": [
       "'PYTHON : UN LANGAGE TOUT PUISSANT'"
      ]
     },
     "execution_count": 35,
     "metadata": {},
     "output_type": "execute_result"
    }
   ],
   "source": [
    "\"python : un langage tout puissant\".upper()"
   ]
  },
  {
   "cell_type": "code",
   "execution_count": 36,
   "id": "854d73a6-1bd8-41a8-96c9-062ea6ee9fa5",
   "metadata": {},
   "outputs": [
    {
     "data": {
      "text/plain": [
       "'python : un langage tout puissant'"
      ]
     },
     "execution_count": 36,
     "metadata": {},
     "output_type": "execute_result"
    }
   ],
   "source": [
    "'PYTHON : UN LANGAGE TOUT PUISSANT'.lower()"
   ]
  },
  {
   "cell_type": "code",
   "execution_count": 37,
   "id": "a3db45d9-c988-40fa-ab43-0e670c61481c",
   "metadata": {},
   "outputs": [
    {
     "data": {
      "text/plain": [
       "'Decouverte de python.'"
      ]
     },
     "execution_count": 37,
     "metadata": {},
     "output_type": "execute_result"
    }
   ],
   "source": [
    "'     Decouverte de python.   '.strip() "
   ]
  },
  {
   "cell_type": "code",
   "execution_count": 38,
   "id": "3446865e-0015-4839-8073-ea79099d63aa",
   "metadata": {},
   "outputs": [
    {
     "data": {
      "text/plain": [
       "'remplacer%20les%20espaces'"
      ]
     },
     "execution_count": 38,
     "metadata": {},
     "output_type": "execute_result"
    }
   ],
   "source": [
    "'remplacer les espaces'.replace(' ', '%20')"
   ]
  },
  {
   "cell_type": "code",
   "execution_count": 39,
   "id": "10edfea1-1695-443f-bad6-2b1d3f6c8e37",
   "metadata": {},
   "outputs": [
    {
     "data": {
      "text/plain": [
       "['Java', 'Python', 'C#', 'PHP', 'JavaScript']"
      ]
     },
     "execution_count": 39,
     "metadata": {},
     "output_type": "execute_result"
    }
   ],
   "source": [
    "'Java Python C# PHP JavaScript'.split(' ')"
   ]
  },
  {
   "cell_type": "code",
   "execution_count": 40,
   "id": "7f093b7b-1df7-456f-ac0d-b66b383c8bfc",
   "metadata": {},
   "outputs": [
    {
     "data": {
      "text/plain": [
       "'Java, Python, C#, PHP, JavaScript'"
      ]
     },
     "execution_count": 40,
     "metadata": {},
     "output_type": "execute_result"
    }
   ],
   "source": [
    "', '.join(['Java', 'Python', 'C#', 'PHP', 'JavaScript'])"
   ]
  },
  {
   "cell_type": "markdown",
   "id": "e913f6c3-eb27-4879-a0bf-b4ad45480ba1",
   "metadata": {
    "tags": []
   },
   "source": [
    "### Manipuler les chaines comme des tableaux"
   ]
  },
  {
   "cell_type": "code",
   "execution_count": 41,
   "id": "6e289d4b-fd01-4b7f-870e-ffcc12acfd2a",
   "metadata": {},
   "outputs": [
    {
     "data": {
      "text/plain": [
       "'p'"
      ]
     },
     "execution_count": 41,
     "metadata": {},
     "output_type": "execute_result"
    }
   ],
   "source": [
    "'python : un langage tout puissant'[0]"
   ]
  },
  {
   "cell_type": "code",
   "execution_count": 42,
   "id": "4d5f2bc4-8fd8-4db9-b6e3-de39a44d50ee",
   "metadata": {},
   "outputs": [
    {
     "data": {
      "text/plain": [
       "'h'"
      ]
     },
     "execution_count": 42,
     "metadata": {},
     "output_type": "execute_result"
    }
   ],
   "source": [
    "'python : un langage tout puissant'[3]"
   ]
  },
  {
   "cell_type": "code",
   "execution_count": 43,
   "id": "522eeeda-9e30-4c38-8d64-5baac26f8a83",
   "metadata": {},
   "outputs": [
    {
     "data": {
      "text/plain": [
       "'hon : u'"
      ]
     },
     "execution_count": 43,
     "metadata": {},
     "output_type": "execute_result"
    }
   ],
   "source": [
    "'python : un langage tout puissant'[3:10]"
   ]
  },
  {
   "cell_type": "code",
   "execution_count": 44,
   "id": "c627eba0-e51a-4307-9963-d07bdf70e6c2",
   "metadata": {},
   "outputs": [
    {
     "data": {
      "text/plain": [
       "'tnassiup tuot egagnal nu : nohtyp'"
      ]
     },
     "execution_count": 44,
     "metadata": {},
     "output_type": "execute_result"
    }
   ],
   "source": [
    "'python : un langage tout puissant'[::-1]"
   ]
  },
  {
   "cell_type": "markdown",
   "id": "a01ed5f5-48cf-4228-8fdb-357c0edc565b",
   "metadata": {},
   "source": [
    "### Manipulation table ascii"
   ]
  },
  {
   "cell_type": "code",
   "execution_count": 45,
   "id": "2a907d73-e3fb-45cb-ad17-18592e1c7279",
   "metadata": {},
   "outputs": [
    {
     "data": {
      "text/plain": [
       "97"
      ]
     },
     "execution_count": 45,
     "metadata": {},
     "output_type": "execute_result"
    }
   ],
   "source": [
    "ord('a')"
   ]
  },
  {
   "cell_type": "code",
   "execution_count": 46,
   "id": "5ac945d0-59eb-4860-af53-161177fa9aeb",
   "metadata": {},
   "outputs": [
    {
     "data": {
      "text/plain": [
       "122"
      ]
     },
     "execution_count": 46,
     "metadata": {},
     "output_type": "execute_result"
    }
   ],
   "source": [
    "ord('z')"
   ]
  },
  {
   "cell_type": "code",
   "execution_count": 47,
   "id": "4e70839f-6f6f-4353-8f73-9f7c4193bc22",
   "metadata": {},
   "outputs": [
    {
     "data": {
      "text/plain": [
       "'b'"
      ]
     },
     "execution_count": 47,
     "metadata": {},
     "output_type": "execute_result"
    }
   ],
   "source": [
    "chr(98)"
   ]
  },
  {
   "cell_type": "markdown",
   "id": "8c9992c4-cb68-4755-94ff-f176a64b4882",
   "metadata": {
    "tags": []
   },
   "source": [
    "### Tester le contenu"
   ]
  },
  {
   "cell_type": "code",
   "execution_count": 48,
   "id": "dae855ef-6f76-4b50-9053-468fa7553fbd",
   "metadata": {},
   "outputs": [
    {
     "data": {
      "text/plain": [
       "False"
      ]
     },
     "execution_count": 48,
     "metadata": {},
     "output_type": "execute_result"
    }
   ],
   "source": [
    "'19 Test'.isalnum()"
   ]
  },
  {
   "cell_type": "code",
   "execution_count": 49,
   "id": "7d4a019c-fcff-4d73-abf2-2f765ef6d74e",
   "metadata": {
    "tags": []
   },
   "outputs": [
    {
     "data": {
      "text/plain": [
       "True"
      ]
     },
     "execution_count": 49,
     "metadata": {},
     "output_type": "execute_result"
    }
   ],
   "source": [
    "'19'.isdigit()"
   ]
  },
  {
   "cell_type": "code",
   "execution_count": 50,
   "id": "a4d6cf6e-0a30-44f2-b093-7e7ed97923e2",
   "metadata": {},
   "outputs": [
    {
     "data": {
      "text/plain": [
       "\"Aujourd'hui, la temperature à Lille est de 23 degrés\""
      ]
     },
     "execution_count": 50,
     "metadata": {},
     "output_type": "execute_result"
    }
   ],
   "source": [
    "town = \"Lille\"\n",
    "temp = 23\n",
    "\"Aujourd'hui, la temperature à {0} est de {1} degrés\".format(town, temp)\n"
   ]
  },
  {
   "cell_type": "code",
   "execution_count": 51,
   "id": "29508594-7917-4612-a0b7-4a11620ee9f6",
   "metadata": {},
   "outputs": [
    {
     "data": {
      "text/plain": [
       "\"Aujourd'hui, la temperature à Lille est de 23 degrés\""
      ]
     },
     "execution_count": 51,
     "metadata": {},
     "output_type": "execute_result"
    }
   ],
   "source": [
    "\"Aujourd'hui, la temperature à {} est de {} degrés\".format(town, temp)"
   ]
  },
  {
   "cell_type": "code",
   "execution_count": 52,
   "id": "3d5ad0c9-d202-4221-87c5-bc77dee1a52b",
   "metadata": {},
   "outputs": [
    {
     "data": {
      "text/plain": [
       "\"Aujourd'hui, la temperature à Lille est de 23 degrés\""
      ]
     },
     "execution_count": 52,
     "metadata": {},
     "output_type": "execute_result"
    }
   ],
   "source": [
    "\"Aujourd'hui, la temperature à {town} est de {temp} degrés\".format(town=town, temp=temp)"
   ]
  },
  {
   "cell_type": "code",
   "execution_count": 53,
   "id": "97f1d2dc-5327-4015-96f8-667f4b56f391",
   "metadata": {},
   "outputs": [
    {
     "data": {
      "text/plain": [
       "\"Aujourd'hui, la temperature à Lille est de 23 degrés\""
      ]
     },
     "execution_count": 53,
     "metadata": {},
     "output_type": "execute_result"
    }
   ],
   "source": [
    "f\"Aujourd'hui, la temperature à {town} est de {temp} degrés\""
   ]
  },
  {
   "cell_type": "markdown",
   "id": "2362dbd0-1b44-4e2d-94f6-178348d9be11",
   "metadata": {
    "tags": []
   },
   "source": [
    "## Les tableaux : Les listes"
   ]
  },
  {
   "cell_type": "code",
   "execution_count": 54,
   "id": "2ed86bdf-cc0c-444b-af1d-be72eb78305a",
   "metadata": {},
   "outputs": [],
   "source": [
    "les_chiffres_pairs = [0,2,4,6,8]"
   ]
  },
  {
   "cell_type": "code",
   "execution_count": 55,
   "id": "c4ddaba8-5baa-4000-a361-4449afbaacd7",
   "metadata": {},
   "outputs": [
    {
     "name": "stdout",
     "output_type": "stream",
     "text": [
      "[0, 2, 4, 6, 8]\n"
     ]
    }
   ],
   "source": [
    "print(les_chiffres_pairs)"
   ]
  },
  {
   "cell_type": "code",
   "execution_count": 56,
   "id": "40b6e4d5-89d1-4d05-b357-49f13d39895c",
   "metadata": {},
   "outputs": [
    {
     "data": {
      "text/plain": [
       "2"
      ]
     },
     "execution_count": 56,
     "metadata": {},
     "output_type": "execute_result"
    }
   ],
   "source": [
    "les_chiffres_pairs[1]"
   ]
  },
  {
   "cell_type": "code",
   "execution_count": 57,
   "id": "84f9e742-1a87-4ee2-832d-2e52112454bf",
   "metadata": {},
   "outputs": [
    {
     "data": {
      "text/plain": [
       "8"
      ]
     },
     "execution_count": 57,
     "metadata": {},
     "output_type": "execute_result"
    }
   ],
   "source": [
    "les_chiffres_pairs[-1]"
   ]
  },
  {
   "cell_type": "code",
   "execution_count": 58,
   "id": "392417ba-2534-4182-8832-20e04eae6fcd",
   "metadata": {},
   "outputs": [
    {
     "data": {
      "text/plain": [
       "[0, 2]"
      ]
     },
     "execution_count": 58,
     "metadata": {},
     "output_type": "execute_result"
    }
   ],
   "source": [
    "les_chiffres_pairs[:2]"
   ]
  },
  {
   "cell_type": "code",
   "execution_count": 59,
   "id": "79a9f710-d7c5-48b3-a64d-217a3f7c022b",
   "metadata": {},
   "outputs": [
    {
     "data": {
      "text/plain": [
       "[8, 6, 4, 2, 0]"
      ]
     },
     "execution_count": 59,
     "metadata": {},
     "output_type": "execute_result"
    }
   ],
   "source": [
    "les_chiffres_pairs[::-1]"
   ]
  },
  {
   "cell_type": "code",
   "execution_count": 60,
   "id": "cecb3a39-4ab7-418f-aa0c-7c26832c1310",
   "metadata": {},
   "outputs": [
    {
     "data": {
      "text/plain": [
       "['__add__',\n",
       " '__class__',\n",
       " '__contains__',\n",
       " '__delattr__',\n",
       " '__delitem__',\n",
       " '__dir__',\n",
       " '__doc__',\n",
       " '__eq__',\n",
       " '__format__',\n",
       " '__ge__',\n",
       " '__getattribute__',\n",
       " '__getitem__',\n",
       " '__gt__',\n",
       " '__hash__',\n",
       " '__iadd__',\n",
       " '__imul__',\n",
       " '__init__',\n",
       " '__init_subclass__',\n",
       " '__iter__',\n",
       " '__le__',\n",
       " '__len__',\n",
       " '__lt__',\n",
       " '__mul__',\n",
       " '__ne__',\n",
       " '__new__',\n",
       " '__reduce__',\n",
       " '__reduce_ex__',\n",
       " '__repr__',\n",
       " '__reversed__',\n",
       " '__rmul__',\n",
       " '__setattr__',\n",
       " '__setitem__',\n",
       " '__sizeof__',\n",
       " '__str__',\n",
       " '__subclasshook__',\n",
       " 'append',\n",
       " 'clear',\n",
       " 'copy',\n",
       " 'count',\n",
       " 'extend',\n",
       " 'index',\n",
       " 'insert',\n",
       " 'pop',\n",
       " 'remove',\n",
       " 'reverse',\n",
       " 'sort']"
      ]
     },
     "execution_count": 60,
     "metadata": {},
     "output_type": "execute_result"
    }
   ],
   "source": [
    "les_chiffres_pairs[0:3]\n",
    "len(les_chiffres_pairs)\n",
    "\n",
    "dir(les_chiffres_pairs)"
   ]
  },
  {
   "cell_type": "code",
   "execution_count": 61,
   "id": "3de65794-0578-4669-8362-5c48980b5d69",
   "metadata": {},
   "outputs": [
    {
     "data": {
      "text/plain": [
       "3"
      ]
     },
     "execution_count": 61,
     "metadata": {},
     "output_type": "execute_result"
    }
   ],
   "source": [
    "fruits = [\"orange\", \"cerise\", \"melon\"]\n",
    "len(fruits)"
   ]
  },
  {
   "cell_type": "code",
   "execution_count": 62,
   "id": "51e45ea4-72ce-4796-b986-c3095fa76d7f",
   "metadata": {},
   "outputs": [
    {
     "name": "stdout",
     "output_type": "stream",
     "text": [
      "['orange', 'cerise', 'melon', 'fraise']\n"
     ]
    }
   ],
   "source": [
    "fruits.append(\"fraise\")\n",
    "print(fruits)"
   ]
  },
  {
   "cell_type": "code",
   "execution_count": 63,
   "id": "591a26e8-b795-4281-a4c5-fd47d12365d5",
   "metadata": {},
   "outputs": [
    {
     "name": "stdout",
     "output_type": "stream",
     "text": [
      "['fraise', 'melon', 'cerise', 'orange']\n"
     ]
    }
   ],
   "source": [
    "fruits.reverse()\n",
    "print(fruits)"
   ]
  },
  {
   "cell_type": "code",
   "execution_count": 64,
   "id": "e5083b9f-41fa-42c9-8676-000534b930a6",
   "metadata": {},
   "outputs": [
    {
     "name": "stdout",
     "output_type": "stream",
     "text": [
      "['fraise', 'cerise', 'melon', 'cerise', 'clémentine', 'orange']\n"
     ]
    }
   ],
   "source": [
    "fruits.insert(3, \"clémentine\")\n",
    "fruits.insert(1, \"cerise\")\n",
    "print(fruits)"
   ]
  },
  {
   "cell_type": "code",
   "execution_count": 65,
   "id": "ba69647d-7849-4f81-bc49-ddf90f2c8e30",
   "metadata": {},
   "outputs": [
    {
     "name": "stdout",
     "output_type": "stream",
     "text": [
      "['fraise', 'melon', 'cerise', 'clémentine', 'orange']\n"
     ]
    }
   ],
   "source": [
    "fruits.remove('cerise')\n",
    "print(fruits)"
   ]
  },
  {
   "cell_type": "code",
   "execution_count": 66,
   "id": "598269b6-9cc3-483b-96f1-c1465fe86f48",
   "metadata": {},
   "outputs": [
    {
     "name": "stdout",
     "output_type": "stream",
     "text": [
      "['melon', 'cerise', 'clémentine', 'orange']\n"
     ]
    }
   ],
   "source": [
    "fruits.pop(0)\n",
    "print(fruits)"
   ]
  },
  {
   "cell_type": "code",
   "execution_count": 67,
   "id": "ba9e9ecd-6017-494a-a11d-4199c023f169",
   "metadata": {},
   "outputs": [
    {
     "name": "stdout",
     "output_type": "stream",
     "text": [
      "['cerise', 'clémentine', 'melon', 'orange']\n"
     ]
    }
   ],
   "source": [
    "fruits.sort()\n",
    "print(fruits)"
   ]
  },
  {
   "cell_type": "code",
   "execution_count": 68,
   "id": "17f5112d-8dce-4c7d-bc93-99091c23e4fd",
   "metadata": {},
   "outputs": [
    {
     "name": "stdout",
     "output_type": "stream",
     "text": [
      "['orange', 'melon', 'clémentine', 'cerise']\n"
     ]
    }
   ],
   "source": [
    "fruits.reverse()\n",
    "print(fruits)"
   ]
  },
  {
   "cell_type": "code",
   "execution_count": 69,
   "id": "95f32d0c-3e3c-4b1d-b620-00ca474691fc",
   "metadata": {},
   "outputs": [
    {
     "data": {
      "text/plain": [
       "1"
      ]
     },
     "execution_count": 69,
     "metadata": {},
     "output_type": "execute_result"
    }
   ],
   "source": [
    "fruits.count(\"cerise\")"
   ]
  },
  {
   "cell_type": "markdown",
   "id": "54157016-b871-48be-873f-1ccbfd442e94",
   "metadata": {},
   "source": [
    "## Les tuples"
   ]
  },
  {
   "cell_type": "code",
   "execution_count": 70,
   "id": "c8e49045-336c-4d64-ba94-256f0d145c49",
   "metadata": {},
   "outputs": [
    {
     "name": "stdout",
     "output_type": "stream",
     "text": [
      "('courgette', 'tomate', 'oignon', 'poivron', 'aubergine')\n"
     ]
    }
   ],
   "source": [
    "ingredient_ratatouille = (\"courgette\", \n",
    "                          \"tomate\", \n",
    "                          \"oignon\", \n",
    "                          \"poivron\", \n",
    "                          \"aubergine\")\n",
    "print(ingredient_ratatouille)"
   ]
  },
  {
   "cell_type": "code",
   "execution_count": 71,
   "id": "bc35c510-aa6a-45ea-b79d-b874f7d5cf3d",
   "metadata": {},
   "outputs": [
    {
     "data": {
      "text/plain": [
       "'oignon'"
      ]
     },
     "execution_count": 71,
     "metadata": {},
     "output_type": "execute_result"
    }
   ],
   "source": [
    "ingredient_ratatouille[2]"
   ]
  },
  {
   "cell_type": "code",
   "execution_count": 72,
   "id": "44f77292-cdc6-48c4-b91b-58dfb7873d7d",
   "metadata": {},
   "outputs": [
    {
     "ename": "TypeError",
     "evalue": "'tuple' object does not support item assignment",
     "output_type": "error",
     "traceback": [
      "\u001b[0;31m---------------------------------------------------------------------------\u001b[0m",
      "\u001b[0;31mTypeError\u001b[0m                                 Traceback (most recent call last)",
      "\u001b[0;32m/var/folders/4h/2pzybx4n3231mqxf73w1vsdc0000gn/T/ipykernel_90130/2528664724.py\u001b[0m in \u001b[0;36m<module>\u001b[0;34m\u001b[0m\n\u001b[0;32m----> 1\u001b[0;31m \u001b[0mingredient_ratatouille\u001b[0m\u001b[0;34m[\u001b[0m\u001b[0;36m1\u001b[0m\u001b[0;34m]\u001b[0m\u001b[0;34m=\u001b[0m \u001b[0;34m\"Carotte\"\u001b[0m\u001b[0;34m\u001b[0m\u001b[0;34m\u001b[0m\u001b[0m\n\u001b[0m",
      "\u001b[0;31mTypeError\u001b[0m: 'tuple' object does not support item assignment"
     ]
    }
   ],
   "source": [
    "ingredient_ratatouille[1]= \"Carotte\""
   ]
  },
  {
   "cell_type": "markdown",
   "id": "2c4a3179-763d-4e99-9826-913861fee05d",
   "metadata": {},
   "source": [
    "## Les dictionnaires"
   ]
  },
  {
   "cell_type": "code",
   "execution_count": 73,
   "id": "e507006f-3f92-430a-bba9-8512bd499403",
   "metadata": {},
   "outputs": [
    {
     "name": "stdout",
     "output_type": "stream",
     "text": [
      "{'France': 'Paris', 'Allemagne': 'Berlin'}\n"
     ]
    }
   ],
   "source": [
    "countries = dict()\n",
    "countries[\"France\"] = \"Paris\"\n",
    "countries[\"Allemagne\"] = \"Berlin\"\n",
    "print(countries)"
   ]
  },
  {
   "cell_type": "code",
   "execution_count": 74,
   "id": "013a17bf-c4b2-41e3-9334-8e3ec3877619",
   "metadata": {},
   "outputs": [
    {
     "name": "stdout",
     "output_type": "stream",
     "text": [
      "Guido van Rossum\n"
     ]
    }
   ],
   "source": [
    "authors = {\"Java\": \"James Gosling\",\n",
    "           \"Python\": \"Guido van Rossum\",\n",
    "           \"C\": \"Dennis Ritchie\"}\n",
    "print(authors[\"Python\"])"
   ]
  },
  {
   "cell_type": "code",
   "execution_count": 75,
   "id": "1ede07b9-0d84-4bc5-ae06-afe24d43d193",
   "metadata": {},
   "outputs": [
    {
     "name": "stdout",
     "output_type": "stream",
     "text": [
      "Graydon Hoare\n"
     ]
    }
   ],
   "source": [
    "authors[\"Rust\"] = \"Graydon Hoare\"\n",
    "print(authors[\"Rust\"])"
   ]
  },
  {
   "cell_type": "code",
   "execution_count": 76,
   "id": "515a65bc-c98f-4d51-8c0b-dc05b85a815f",
   "metadata": {},
   "outputs": [
    {
     "name": "stdout",
     "output_type": "stream",
     "text": [
      "4\n"
     ]
    }
   ],
   "source": [
    "print(len(authors))"
   ]
  },
  {
   "cell_type": "code",
   "execution_count": 77,
   "id": "f3b1f4f4-9a3a-4af8-8086-9435f87439e4",
   "metadata": {},
   "outputs": [
    {
     "name": "stdout",
     "output_type": "stream",
     "text": [
      "{'Python': 'Guido van Rossum', 'Rust': 'Graydon Hoare'}\n"
     ]
    }
   ],
   "source": [
    "del authors[\"Java\"]\n",
    "del authors[\"C\"]\n",
    "print(authors)"
   ]
  },
  {
   "cell_type": "code",
   "execution_count": 78,
   "id": "bc19ab0d-f13c-4adc-be97-3fd134e03f2d",
   "metadata": {},
   "outputs": [
    {
     "name": "stdout",
     "output_type": "stream",
     "text": [
      "['Python', 'Rust']\n"
     ]
    }
   ],
   "source": [
    "print(list(authors))"
   ]
  },
  {
   "cell_type": "code",
   "execution_count": 79,
   "id": "a54d10c6-6ce5-44cc-bbc5-91b539875e28",
   "metadata": {},
   "outputs": [
    {
     "name": "stdout",
     "output_type": "stream",
     "text": [
      "dict_values(['Guido van Rossum', 'Graydon Hoare'])\n"
     ]
    }
   ],
   "source": [
    "values = authors.values()\n",
    "print(values)"
   ]
  },
  {
   "cell_type": "code",
   "execution_count": 80,
   "id": "35c4a84e-d48c-4cca-b4df-3e3ce44eae97",
   "metadata": {},
   "outputs": [
    {
     "name": "stdout",
     "output_type": "stream",
     "text": [
      "dict_keys(['Python', 'Rust'])\n"
     ]
    }
   ],
   "source": [
    "keys = authors.keys()\n",
    "print(keys)"
   ]
  },
  {
   "cell_type": "code",
   "execution_count": 81,
   "id": "7be175aa-8b9f-47f3-bfc1-8b5cd969e98a",
   "metadata": {},
   "outputs": [
    {
     "name": "stdout",
     "output_type": "stream",
     "text": [
      "Guido van Rossum\n"
     ]
    }
   ],
   "source": [
    "item = authors.pop(\"Python\")\n",
    "print(item)"
   ]
  },
  {
   "cell_type": "code",
   "execution_count": 82,
   "id": "108e2d32-d7f9-463f-ac2f-ae33190210ec",
   "metadata": {},
   "outputs": [],
   "source": [
    "authors[\"Java\"] =  \"James Gosling\","
   ]
  },
  {
   "cell_type": "markdown",
   "id": "a1b75b12-072c-41f3-9a26-4c6c1c91c9df",
   "metadata": {},
   "source": [
    "### Le mot clé *in*"
   ]
  },
  {
   "cell_type": "code",
   "execution_count": 83,
   "id": "41cbf364-07d2-49b3-a9dd-09547d2fc58d",
   "metadata": {},
   "outputs": [
    {
     "data": {
      "text/plain": [
       "True"
      ]
     },
     "execution_count": 83,
     "metadata": {},
     "output_type": "execute_result"
    }
   ],
   "source": [
    "\"Java\" in authors"
   ]
  },
  {
   "cell_type": "code",
   "execution_count": 84,
   "id": "52a8b890-da8b-4999-a91b-e54051be6db4",
   "metadata": {},
   "outputs": [
    {
     "data": {
      "text/plain": [
       "True"
      ]
     },
     "execution_count": 84,
     "metadata": {},
     "output_type": "execute_result"
    }
   ],
   "source": [
    "\"PHP\" not in authors"
   ]
  },
  {
   "cell_type": "code",
   "execution_count": 85,
   "id": "f2f39977-1779-4cfa-a80f-f5e6ee21f7b9",
   "metadata": {},
   "outputs": [
    {
     "data": {
      "text/plain": [
       "False"
      ]
     },
     "execution_count": 85,
     "metadata": {},
     "output_type": "execute_result"
    }
   ],
   "source": [
    "\"Pomme\" in ingredient_ratatouille"
   ]
  },
  {
   "cell_type": "markdown",
   "id": "cbb7eea9-1899-46e5-ac93-f8093214615f",
   "metadata": {},
   "source": [
    "### La méthode *print*"
   ]
  },
  {
   "cell_type": "code",
   "execution_count": 86,
   "id": "cb2f6934-ea3a-468c-9b97-abfde85c926b",
   "metadata": {},
   "outputs": [
    {
     "name": "stdout",
     "output_type": "stream",
     "text": [
      "Une sortie console\n"
     ]
    }
   ],
   "source": [
    "print(\"Une sortie console\")"
   ]
  },
  {
   "cell_type": "code",
   "execution_count": 87,
   "id": "9f15bc20-6cbd-477d-80e1-289ef1828b1c",
   "metadata": {},
   "outputs": [
    {
     "name": "stdout",
     "output_type": "stream",
     "text": [
      "Hello Nicolas !\n"
     ]
    }
   ],
   "source": [
    ">>> name = \"Nicolas\"\n",
    ">>> print(\"Hello\", name, \"!\")"
   ]
  },
  {
   "cell_type": "code",
   "execution_count": 88,
   "id": "55a48695-cb98-4334-923b-a130e1902796",
   "metadata": {},
   "outputs": [
    {
     "name": "stdout",
     "output_type": "stream",
     "text": [
      "Hello,Nicolas,!\n"
     ]
    }
   ],
   "source": [
    "print(\"Hello\", name, \"!\", sep = ',')"
   ]
  },
  {
   "cell_type": "code",
   "execution_count": 89,
   "id": "c77cb87f-026c-4986-ac5e-35b8c4ca19ec",
   "metadata": {},
   "outputs": [
    {
     "name": "stdout",
     "output_type": "stream",
     "text": [
      "Hello Nicolas ! ----- "
     ]
    }
   ],
   "source": [
    "name = \"Nicolas\"\n",
    "print(\"Hello\", name, \"!\", end = ' ----- ')"
   ]
  },
  {
   "cell_type": "markdown",
   "id": "a38d8546-f495-4cd1-8dbb-dfef79f7f1a9",
   "metadata": {},
   "source": [
    "### la méthode input"
   ]
  },
  {
   "cell_type": "code",
   "execution_count": 91,
   "id": "2310c201-df77-458c-b493-4df7455f3876",
   "metadata": {},
   "outputs": [
    {
     "name": "stdin",
     "output_type": "stream",
     "text": [
      " 10\n"
     ]
    }
   ],
   "source": [
    "val = input()"
   ]
  },
  {
   "cell_type": "code",
   "execution_count": 92,
   "id": "fa768415-ab62-4a94-be02-eecd12ad2931",
   "metadata": {},
   "outputs": [
    {
     "name": "stdout",
     "output_type": "stream",
     "text": [
      "10\n"
     ]
    }
   ],
   "source": [
    "print(val)"
   ]
  },
  {
   "cell_type": "code",
   "execution_count": 98,
   "id": "f1f2a878-704e-4410-b568-a6b2c61d3082",
   "metadata": {},
   "outputs": [
    {
     "name": "stdin",
     "output_type": "stream",
     "text": [
      "Saisissez une valeur :  90\n"
     ]
    }
   ],
   "source": [
    "val = input(\"Saisissez une valeur : \")"
   ]
  },
  {
   "cell_type": "code",
   "execution_count": 99,
   "id": "ffe10333-dba6-4efc-b826-00325d641214",
   "metadata": {},
   "outputs": [
    {
     "name": "stdout",
     "output_type": "stream",
     "text": [
      "90\n"
     ]
    }
   ],
   "source": [
    "print(val)"
   ]
  },
  {
   "cell_type": "code",
   "execution_count": 100,
   "id": "6e2c53cb-a2b6-455c-868a-b5e239bc3313",
   "metadata": {},
   "outputs": [
    {
     "data": {
      "text/plain": [
       "str"
      ]
     },
     "execution_count": 100,
     "metadata": {},
     "output_type": "execute_result"
    }
   ],
   "source": [
    "type(val)"
   ]
  },
  {
   "cell_type": "code",
   "execution_count": 101,
   "id": "92833eaa-7e59-4179-84bc-f8b8dc1671f2",
   "metadata": {},
   "outputs": [
    {
     "data": {
      "text/plain": [
       "int"
      ]
     },
     "execution_count": 101,
     "metadata": {},
     "output_type": "execute_result"
    }
   ],
   "source": [
    "v = int(val)\n",
    "type(v)"
   ]
  }
 ],
 "metadata": {
  "kernelspec": {
   "display_name": "Python 3 (ipykernel)",
   "language": "python",
   "name": "python3"
  },
  "language_info": {
   "codemirror_mode": {
    "name": "ipython",
    "version": 3
   },
   "file_extension": ".py",
   "mimetype": "text/x-python",
   "name": "python",
   "nbconvert_exporter": "python",
   "pygments_lexer": "ipython3",
   "version": "3.8.3"
  },
  "toc-autonumbering": false,
  "toc-showcode": true,
  "toc-showmarkdowntxt": false,
  "toc-showtags": false
 },
 "nbformat": 4,
 "nbformat_minor": 5
}
