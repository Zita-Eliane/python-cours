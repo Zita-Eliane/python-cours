{
 "cells": [
  {
   "cell_type": "markdown",
   "id": "c905824d-1daa-421f-941f-74492e208132",
   "metadata": {},
   "source": [
    "# Les classes"
   ]
  },
  {
   "cell_type": "markdown",
   "id": "e0f3877e-82c8-4436-adc7-055b9ae094e6",
   "metadata": {},
   "source": [
    "## Déclaration"
   ]
  },
  {
   "cell_type": "code",
   "execution_count": 4,
   "id": "6741324c-c8ae-4ab8-90ab-7149264dc084",
   "metadata": {},
   "outputs": [],
   "source": [
    "class Personne:\n",
    "    pass"
   ]
  },
  {
   "cell_type": "markdown",
   "id": "38e13fd4-7648-45e9-931c-0c93e1a5e25a",
   "metadata": {},
   "source": [
    "## Constructeur"
   ]
  },
  {
   "cell_type": "code",
   "execution_count": 5,
   "id": "0a54e7e2-9b62-475d-af84-327a46efb5ba",
   "metadata": {},
   "outputs": [],
   "source": [
    "class Personne:\n",
    "    def __init__(self, nom, prenom, age):\n",
    "        self._nom = nom\n",
    "        self._prenom = prenom\n",
    "        self._age = age\n"
   ]
  },
  {
   "cell_type": "markdown",
   "id": "99e60262-5d7c-4efe-930e-6e811c993103",
   "metadata": {},
   "source": [
    "## Méthodes d'instance"
   ]
  },
  {
   "cell_type": "code",
   "execution_count": 12,
   "id": "0bb3da94-e33a-4a50-a755-7a2e1e0adc21",
   "metadata": {
    "tags": []
   },
   "outputs": [
    {
     "name": "stdout",
     "output_type": "stream",
     "text": [
      "True\n"
     ]
    }
   ],
   "source": [
    "class Personne:\n",
    "    def __init__(self, nom, prenom, age):\n",
    "        self._nom = nom\n",
    "        self._prenom = prenom\n",
    "        self._age = age\n",
    "\n",
    "    def is_majeur(self):\n",
    "        return self._age > 18\n",
    "\n",
    "james = Personne(\"Gosling\", \"James\", 66)\n",
    "print(james.is_majeur())\n"
   ]
  },
  {
   "cell_type": "markdown",
   "id": "2ecb31d3-5d62-4857-be83-384e9a2e3a3d",
   "metadata": {
    "tags": []
   },
   "source": [
    "## Méthodes de classe"
   ]
  },
  {
   "cell_type": "code",
   "execution_count": 21,
   "id": "8418e3bb-49fb-4ab5-94f0-9e7b6089e52f",
   "metadata": {},
   "outputs": [
    {
     "name": "stdout",
     "output_type": "stream",
     "text": [
      "Nom : Dupont\n"
     ]
    }
   ],
   "source": [
    "\n",
    "class Personne:\n",
    "    def __init__(self, nom, prenom, age):\n",
    "        self._nom = nom\n",
    "        self._prenom = prenom\n",
    "        self._age = age\n",
    "\n",
    "    def is_majeur(self):\n",
    "        return self._age > 18\n",
    "    \n",
    "    def get_prenom(self):\n",
    "        return self._prenom\n",
    "    \n",
    "    @staticmethod\n",
    "    def create_from_str(line):\n",
    "        nom, prenom, age = line.split(\";\")\n",
    "        return Personne(nom, prenom, int(age))\n",
    "    \n",
    "jeanD = Personne.create_from_str(\"Jean;Dupont;34\")\n",
    "print(f\"Nom : {jeanD.get_prenom()}\")"
   ]
  },
  {
   "cell_type": "markdown",
   "id": "609aa8e3-ac34-4920-b1d3-baabad5f2d38",
   "metadata": {},
   "source": [
    "## La méthode `__str__`"
   ]
  },
  {
   "cell_type": "code",
   "execution_count": 20,
   "id": "78481a61-e225-428e-920f-d0a162a0bac0",
   "metadata": {},
   "outputs": [
    {
     "name": "stdout",
     "output_type": "stream",
     "text": [
      "Van Rossum Guido 65\n"
     ]
    }
   ],
   "source": [
    "class Personne:\n",
    "    def __init__(self, nom, prenom, age):\n",
    "        self._nom = nom\n",
    "        self._prenom = prenom\n",
    "        self._age = age\n",
    "\n",
    "    def is_majeur(self):\n",
    "        return self._age > 18\n",
    "\n",
    "    def __str__(self):\n",
    "        return f\"{self._nom} {self._prenom} {self._age}\"\n",
    "\n",
    "guido = Personne(\"Van Rossum\", \"Guido\", 65)\n",
    "print(guido)"
   ]
  },
  {
   "cell_type": "markdown",
   "id": "88f8a13f-161a-42dd-b144-10b68a1637ea",
   "metadata": {
    "tags": []
   },
   "source": [
    "## L'égalite"
   ]
  },
  {
   "cell_type": "code",
   "execution_count": 27,
   "id": "90bbd94e-62b8-4758-9e6d-3f443e783cdc",
   "metadata": {},
   "outputs": [
    {
     "name": "stdout",
     "output_type": "stream",
     "text": [
      "guilo_2 et guido ont la meme adresse mémoire : True\n",
      "--------\n",
      "guido_3 et guido n'ont pas la meme adresse mémoire : False\n",
      "mais guido_3 et guido sont égaux en terme de données : True\n"
     ]
    }
   ],
   "source": [
    "class Personne:\n",
    "    def __init__(self, nom, prenom, age):\n",
    "        self._nom = nom\n",
    "        self._prenom = prenom\n",
    "        self._age = age\n",
    "\n",
    "    def __eq__(self, other):\n",
    "        if not isinstance(other, Personne):\n",
    "            return False\n",
    "        return other._nom == self._nom \\\n",
    "            and other._prenom == self._prenom \\\n",
    "            and other._age == self._age\n",
    "\n",
    "guido = Personne(\"Van Rossum\", \"Guido\", 65)\n",
    "guido_2 = guido\n",
    "print(f\"guilo_2 et guido ont la meme adresse mémoire : {guido is guido_2}\")\n",
    "print(\"--------\")\n",
    "guido_3 = Personne(\"Van Rossum\", \"Guido\", 65)\n",
    "print(f\"guido_3 et guido n'ont pas la meme adresse mémoire : {guido is guido_3}\")\n",
    "print(f\"mais guido_3 et guido sont égaux en terme de données : {guido == guido_3}\")"
   ]
  },
  {
   "cell_type": "markdown",
   "id": "8aa2d049-9ee7-4f15-93c0-60966233bb12",
   "metadata": {},
   "source": [
    "## Comparaison"
   ]
  },
  {
   "cell_type": "code",
   "execution_count": 34,
   "id": "0bd21532-e614-47c7-b957-2f3d0ff7eb04",
   "metadata": {
    "tags": []
   },
   "outputs": [
    {
     "name": "stdout",
     "output_type": "stream",
     "text": [
      "Van Rossum(65) Gosling(67) Ritchie(70)\n"
     ]
    }
   ],
   "source": [
    "class Personne:\n",
    "    def __init__(self, nom, prenom, age):\n",
    "        self._nom = nom\n",
    "        self._prenom = prenom\n",
    "        self._age = age\n",
    "\n",
    "    def __str__(self):\n",
    "        return f\"{self._nom}({self._age})\"\n",
    "\n",
    "    def __lt__(self, other):\n",
    "        return self._age < other._age\n",
    "\n",
    "personnes = (Personne(\"Van Rossum\", \"Guido\", 65), \n",
    "             Personne(\"Ritchie\",\"Dennis\", 70),\n",
    "             Personne(\"Gosling\",\"James\", 67))\n",
    "\n",
    "personnes = sorted(personnes)\n",
    "print(*personnes)\n",
    "    "
   ]
  },
  {
   "cell_type": "markdown",
   "id": "d525d4ed-ffcc-4fd4-9ffd-e750b02e62f7",
   "metadata": {
    "tags": []
   },
   "source": [
    "## L'heritage"
   ]
  },
  {
   "cell_type": "markdown",
   "id": "e178f518-530f-4a55-9853-da5691ad156f",
   "metadata": {},
   "source": [
    "### Heritage en utilisant le nom de la classe mére"
   ]
  },
  {
   "cell_type": "code",
   "execution_count": 35,
   "id": "d1a06dd2-a729-4b5c-a957-66f413cd6435",
   "metadata": {},
   "outputs": [],
   "source": [
    "class Forme:\n",
    "    def __init__(self, name):\n",
    "        print(\"Forme\")\n",
    "        self._name = name\n",
    "\n",
    "class Carre(Forme):\n",
    "    def __init__(self, name, cote):\n",
    "        Forme.__init__(self, name)\n",
    "        self._cote = cote"
   ]
  },
  {
   "cell_type": "markdown",
   "id": "f373833d-07b6-494c-8675-4f09407cb7de",
   "metadata": {},
   "source": [
    "### Heritage en utilisant super()"
   ]
  },
  {
   "cell_type": "code",
   "execution_count": 39,
   "id": "a081466a-a50c-4096-8257-e50a0bd8421b",
   "metadata": {},
   "outputs": [],
   "source": [
    "class Forme:\n",
    "    def __init__(self, name):\n",
    "        print(\"Forme\")\n",
    "        self._name = name\n",
    "\n",
    "class Carre(Forme):\n",
    "    def __init__(self, name, cote):\n",
    "        super().__init__(name)\n",
    "        self._cote = cote"
   ]
  },
  {
   "cell_type": "markdown",
   "id": "56637bc7-44ce-4db9-a589-a8b83857bd6a",
   "metadata": {},
   "source": [
    "## Heritage,Equalité,str"
   ]
  },
  {
   "cell_type": "code",
   "execution_count": 56,
   "id": "4ca60976-983d-4a04-bcf4-ccaaad5ed46e",
   "metadata": {
    "tags": []
   },
   "outputs": [
    {
     "name": "stdout",
     "output_type": "stream",
     "text": [
      "ABCD suis  Carré avec comme caractéristique Cote : 5\n"
     ]
    }
   ],
   "source": [
    "class Forme:\n",
    "    def __init__(self, name):\n",
    "        self._name = name\n",
    "\n",
    "    def get_type(self):\n",
    "        return \"Forme\"\n",
    "    \n",
    "    def get_caracterique(self):\n",
    "        return \"\"\n",
    "    \n",
    "    def __str__(self):\n",
    "        return \"{} suis  {} avec comme caractéristique {}\".format(self._name, \n",
    "                                                                  self.get_type(), \n",
    "                                                                  self.get_caracterique())\n",
    "\n",
    "class Carre(Forme):\n",
    "    def __init__(self, name, cote):\n",
    "        super().__init__(name)\n",
    "        self._cote = cote\n",
    "\n",
    "    def get_type(self):\n",
    "        return \"Carré\"\n",
    "    \n",
    "    def get_caracterique(self):\n",
    "        return f\"Cote : {self._cote}\"\n",
    "    \n",
    "un_carre = Carre(\"ABCD\", 5)\n",
    "print(un_carre)"
   ]
  },
  {
   "cell_type": "code",
   "execution_count": 41,
   "id": "de4f0e7b-ac88-4f75-8d3e-64f960493ddc",
   "metadata": {
    "tags": []
   },
   "outputs": [
    {
     "name": "stdout",
     "output_type": "stream",
     "text": [
      "Forme\n",
      "Forme\n",
      "Forme\n",
      "Carre LKJH avec comme côté 2  - Carre ABCD avec comme côté 5  - Carre TYUI avec comme côté 10 \n",
      "Forme\n",
      "Forme\n",
      "Egalite  True\n",
      "ABCD\n"
     ]
    }
   ],
   "source": [
    "class Forme:\n",
    "    def __init__(self, name):\n",
    "        print(\"Forme\")\n",
    "        self._name = name\n",
    "    \n",
    "    def __str__(self):\n",
    "        return \"Une forme {}\".format(self._name)\n",
    "\n",
    "class Carre(Forme):\n",
    "    def __init__(self, name, cote):\n",
    "        super().__init__(name)\n",
    "        self._cote = cote\n",
    "\n",
    "    def __eq__(self, other):\n",
    "        if(not isinstance(other, Carre)):\n",
    "            return False\n",
    "        return self._cote == other._cote \\\n",
    "               and self._name == other._name\n",
    "\n",
    "    def __lt__(self, other):\n",
    "        return self._cote < other._cote\n",
    "\n",
    "    def __str__(self):\n",
    "        return \"Carre {} avec comme côté {} \".format(self._name, self._cote)\n",
    "\n",
    "list = (\n",
    "    Carre(\"ABCD\", 5),\n",
    "    Carre(\"TYUI\", 10),\n",
    "    Carre(\"LKJH\", 2)\n",
    ")\n",
    "list = sorted(list)\n",
    "print(*list, sep=\" - \")\n",
    "\n",
    "carreABCD = Carre(\"ABCD\", 5)\n",
    "carreAutre = Carre(\"ABCD\", 5)\n",
    "# Afficher Egalite  True\n",
    "print(\"Egalite \", carreABCD == carreAutre )\n",
    "print(carreABCD._name)"
   ]
  },
  {
   "cell_type": "code",
   "execution_count": null,
   "id": "1db4e0aa-99b3-4bde-846e-aafc3453f6ab",
   "metadata": {},
   "outputs": [],
   "source": []
  },
  {
   "cell_type": "code",
   "execution_count": null,
   "id": "608e2648-07eb-44fb-b758-84ef95a0af36",
   "metadata": {},
   "outputs": [],
   "source": []
  }
 ],
 "metadata": {
  "kernelspec": {
   "display_name": "Python 3 (ipykernel)",
   "language": "python",
   "name": "python3"
  },
  "language_info": {
   "codemirror_mode": {
    "name": "ipython",
    "version": 3
   },
   "file_extension": ".py",
   "mimetype": "text/x-python",
   "name": "python",
   "nbconvert_exporter": "python",
   "pygments_lexer": "ipython3",
   "version": "3.8.3"
  },
  "toc-autonumbering": false,
  "toc-showcode": false,
  "toc-showmarkdowntxt": true,
  "toc-showtags": false
 },
 "nbformat": 4,
 "nbformat_minor": 5
}
