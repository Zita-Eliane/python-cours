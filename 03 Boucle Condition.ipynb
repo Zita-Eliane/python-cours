{
 "cells": [
  {
   "cell_type": "markdown",
   "id": "b81d8104-2b02-4fb1-8452-24c89ed518c5",
   "metadata": {},
   "source": [
    "# Boucles et conditions"
   ]
  },
  {
   "cell_type": "markdown",
   "id": "b37d4d5b-4864-466a-a1d8-10d1015cb872",
   "metadata": {},
   "source": [
    "## If elis else"
   ]
  },
  {
   "cell_type": "code",
   "execution_count": 1,
   "id": "fb0ae6f5-0f78-4ccc-aaca-c0220c139e3f",
   "metadata": {},
   "outputs": [
    {
     "name": "stdout",
     "output_type": "stream",
     "text": [
      "Nombre impaire\n"
     ]
    }
   ],
   "source": [
    "a = 11\n",
    "if a%2==0:\n",
    "    print(\"Nombre paire\")\n",
    "else:\n",
    "    print(\"Nombre impaire\")\n"
   ]
  },
  {
   "cell_type": "code",
   "execution_count": 2,
   "id": "1eb7080b-db34-4593-a612-00f812d19bf4",
   "metadata": {},
   "outputs": [
    {
     "name": "stdout",
     "output_type": "stream",
     "text": [
      "Vapeur\n"
     ]
    }
   ],
   "source": [
    "temp_eau = 140\n",
    "if temp_eau < 0:\n",
    "    print(\"Glace\")\n",
    "elif temp_eau> 100:\n",
    "    print(\"Vapeur\")\n",
    "else:\n",
    "    print(\"Liquide\")"
   ]
  },
  {
   "cell_type": "markdown",
   "id": "700536fe-001b-4489-8d7b-010ce24500bb",
   "metadata": {},
   "source": [
    "## La boucle While"
   ]
  },
  {
   "cell_type": "code",
   "execution_count": 3,
   "id": "3949ba12-1117-401f-8bab-78bf81623d6f",
   "metadata": {},
   "outputs": [
    {
     "name": "stdout",
     "output_type": "stream",
     "text": [
      "5\n",
      "4\n",
      "3\n",
      "2\n",
      "1\n"
     ]
    }
   ],
   "source": [
    "i = 5\n",
    "while not i == 0:\n",
    "    print(i)\n",
    "    i-=1"
   ]
  },
  {
   "cell_type": "markdown",
   "id": "4565c8f0-47f1-4903-a0af-7746e010db74",
   "metadata": {},
   "source": [
    "## La boucle for"
   ]
  },
  {
   "cell_type": "code",
   "execution_count": 4,
   "id": "19553de5-55b6-4b5f-9155-9dccae651aa0",
   "metadata": {},
   "outputs": [
    {
     "name": "stdout",
     "output_type": "stream",
     "text": [
      "bleu\n",
      "vert\n",
      "orange\n"
     ]
    }
   ],
   "source": [
    "couleurs = (\"bleu\", \"vert\", \"orange\")\n",
    "for couleur in couleurs:\n",
    "    print(couleur)"
   ]
  },
  {
   "cell_type": "code",
   "execution_count": 5,
   "id": "64147997-39c9-4892-8bc1-2e795f45b13d",
   "metadata": {},
   "outputs": [],
   "source": [
    "for _ in (1,2,3,4):\n",
    "    pass"
   ]
  },
  {
   "cell_type": "markdown",
   "id": "aa7b28f1-ae4e-4427-9eb0-581325c22cc0",
   "metadata": {},
   "source": [
    "### La function enumerate"
   ]
  },
  {
   "cell_type": "code",
   "execution_count": 6,
   "id": "e414ee3e-7724-440e-9119-3d098a39a8c3",
   "metadata": {},
   "outputs": [
    {
     "name": "stdout",
     "output_type": "stream",
     "text": [
      "0 bleu\n",
      "1 vert\n",
      "2 orange\n"
     ]
    }
   ],
   "source": [
    "for idx, couleur in enumerate(couleurs):\n",
    "    print(idx, couleur)"
   ]
  },
  {
   "cell_type": "markdown",
   "id": "966ba7d8-5f8e-45e3-a135-6117bc3371b6",
   "metadata": {},
   "source": [
    "### La classe range"
   ]
  },
  {
   "cell_type": "code",
   "execution_count": 7,
   "id": "45f8f4ac-61a8-43ca-a177-7c8bf4ce64cf",
   "metadata": {},
   "outputs": [
    {
     "name": "stdout",
     "output_type": "stream",
     "text": [
      "5 4 3 2 1 "
     ]
    }
   ],
   "source": [
    "for x in range(5, 0, -1):\n",
    "    print(x, end=\" \")"
   ]
  },
  {
   "cell_type": "code",
   "execution_count": 8,
   "id": "25b97425-cf6d-45cb-bafe-9fc827a45766",
   "metadata": {},
   "outputs": [
    {
     "name": "stdout",
     "output_type": "stream",
     "text": [
      "0 1 2 3 4 "
     ]
    }
   ],
   "source": [
    "for x in range(5):\n",
    "    print(x, end=\" \")"
   ]
  },
  {
   "cell_type": "markdown",
   "id": "3daccefc-45bb-4399-b12d-ea97a1311519",
   "metadata": {},
   "source": [
    "### Le mot break"
   ]
  },
  {
   "cell_type": "code",
   "execution_count": 9,
   "id": "cc72beb4-2498-49d0-a7ed-f3071db5107c",
   "metadata": {},
   "outputs": [
    {
     "name": "stdout",
     "output_type": "stream",
     "text": [
      "P y t h o n   c ' e "
     ]
    },
    {
     "data": {
      "text/plain": [
       "True"
      ]
     },
     "execution_count": 9,
     "metadata": {},
     "output_type": "execute_result"
    }
   ],
   "source": [
    "def contains(string, letter):\n",
    "    found = False;\n",
    "    for car in string:\n",
    "        print(car, end=\" \")\n",
    "        if car == letter:\n",
    "            found = True\n",
    "            break\n",
    "    return found\n",
    "\n",
    "contains(\"Python c'est un langage facile !\", \"e\")"
   ]
  },
  {
   "cell_type": "code",
   "execution_count": 12,
   "id": "f30bd721-7855-49b2-a181-3ef079ecc8f1",
   "metadata": {},
   "outputs": [
    {
     "name": "stdout",
     "output_type": "stream",
     "text": [
      "P y t h o n   c ' e s t   u n   l a n g a g e   f a c i l e   ! "
     ]
    },
    {
     "data": {
      "text/plain": [
       "False"
      ]
     },
     "execution_count": 12,
     "metadata": {},
     "output_type": "execute_result"
    }
   ],
   "source": [
    "contains(\"Python c'est un langage facile !\", \"w\")"
   ]
  },
  {
   "cell_type": "markdown",
   "id": "9a08a1f8-adf9-4519-ae2c-ab491cf84501",
   "metadata": {},
   "source": [
    "### Le mot clé continue"
   ]
  },
  {
   "cell_type": "code",
   "execution_count": 15,
   "id": "e3bf234c-e9eb-494d-ae5d-5cd192686735",
   "metadata": {},
   "outputs": [
    {
     "name": "stdout",
     "output_type": "stream",
     "text": [
      "0 20 8 "
     ]
    }
   ],
   "source": [
    "def afficher_pair(nombres):\n",
    "    for nb in nombres:\n",
    "        if nb%2 != 0:\n",
    "            continue\n",
    "        print(nb, end=\" \")\n",
    "        \n",
    "afficher_pair([0,1,20, 7,8,9])"
   ]
  },
  {
   "cell_type": "markdown",
   "id": "6ce1a63a-0887-43db-a38f-d496345c394c",
   "metadata": {},
   "source": [
    "### Les listes"
   ]
  },
  {
   "cell_type": "code",
   "execution_count": 16,
   "id": "46a4368a-bc8e-40f5-a5a1-c0e7345c922e",
   "metadata": {},
   "outputs": [
    {
     "name": "stdout",
     "output_type": "stream",
     "text": [
      "0 2 4 6 8 10 12 14 16 18\n"
     ]
    }
   ],
   "source": [
    "nombres_pairs = []\n",
    "for nb in range(20):\n",
    "    if nb % 2 == 0:\n",
    "        nombres_pairs.append(nb)\n",
    "print(*nombres_pairs)"
   ]
  },
  {
   "cell_type": "code",
   "execution_count": 17,
   "id": "a892097d-9778-40a9-8bcf-17894be34046",
   "metadata": {},
   "outputs": [
    {
     "name": "stdout",
     "output_type": "stream",
     "text": [
      "0 2 4 6 8 10 12 14 16 18\n"
     ]
    }
   ],
   "source": [
    "nombres_pairs = [item for item in range(20) if item % 2 == 0]\n",
    "print(*nombres_pairs)"
   ]
  },
  {
   "cell_type": "code",
   "execution_count": 10,
   "id": "d5440f20-9ca4-49c7-95a6-fd38266ee655",
   "metadata": {},
   "outputs": [
    {
     "name": "stdout",
     "output_type": "stream",
     "text": [
      "1 3 5 7 9 11 13 15 17 19\n"
     ]
    }
   ],
   "source": [
    "nombres =  [item for item in range(20) if item % 2]\n",
    "print(*nombres)"
   ]
  },
  {
   "cell_type": "code",
   "execution_count": 18,
   "id": "fb1da7e0-1103-46b2-935f-f2ab3749c706",
   "metadata": {},
   "outputs": [
    {
     "name": "stdout",
     "output_type": "stream",
     "text": [
      "0 Div. par 3\n",
      "Non div. par 3\n",
      "Non div. par 3\n",
      "3 Div. par 3\n",
      "Non div. par 3\n",
      "Non div. par 3\n"
     ]
    }
   ],
   "source": [
    "nombres =  [f\"{item} Div. par 3\" if item%3 == 0 else \"Non div. par 3\" for item in range(6)]\n",
    "print(*nombres, sep=\"\\n\")"
   ]
  }
 ],
 "metadata": {
  "kernelspec": {
   "display_name": "Python 3 (ipykernel)",
   "language": "python",
   "name": "python3"
  },
  "language_info": {
   "codemirror_mode": {
    "name": "ipython",
    "version": 3
   },
   "file_extension": ".py",
   "mimetype": "text/x-python",
   "name": "python",
   "nbconvert_exporter": "python",
   "pygments_lexer": "ipython3",
   "version": "3.8.3"
  }
 },
 "nbformat": 4,
 "nbformat_minor": 5
}
