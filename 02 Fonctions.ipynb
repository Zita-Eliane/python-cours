{
 "cells": [
  {
   "cell_type": "markdown",
   "id": "66b594dc-f92c-4dcd-87f2-91610acdc6ec",
   "metadata": {},
   "source": [
    "# Les fonctions"
   ]
  },
  {
   "cell_type": "markdown",
   "id": "beeea79f-381c-479c-a1b0-6a450778d698",
   "metadata": {},
   "source": [
    "## Une fonction minimale"
   ]
  },
  {
   "cell_type": "code",
   "execution_count": 1,
   "id": "b64fce21-9ccd-4c25-a13d-80160617f099",
   "metadata": {},
   "outputs": [],
   "source": [
    "def somme():\n",
    "    pass"
   ]
  },
  {
   "cell_type": "markdown",
   "id": "5513f990-2e39-4b6b-bf9a-67e5a95c7e7e",
   "metadata": {
    "tags": []
   },
   "source": [
    "## Une fonction ou une procédure"
   ]
  },
  {
   "cell_type": "code",
   "execution_count": 2,
   "id": "13d26bf9-9c89-4595-8939-4571acbb9d09",
   "metadata": {},
   "outputs": [
    {
     "data": {
      "text/plain": [
       "15"
      ]
     },
     "execution_count": 2,
     "metadata": {},
     "output_type": "execute_result"
    }
   ],
   "source": [
    "def fibonacci(n):\n",
    "    pass\n",
    "\n",
    "def factoriel(n):\n",
    "    if n == 0:\n",
    "        return 1\n",
    "    else:\n",
    "        return n * factoriel(n-1)\n",
    "\n",
    "def somme(a,b):\n",
    "    return a + b\n",
    "\n",
    "somme(10,5)"
   ]
  },
  {
   "cell_type": "code",
   "execution_count": 3,
   "id": "bafc6618-1c6b-4c5f-b027-90ec88b19183",
   "metadata": {},
   "outputs": [
    {
     "data": {
      "text/plain": [
       "'un texteavec un autre texte'"
      ]
     },
     "execution_count": 3,
     "metadata": {},
     "output_type": "execute_result"
    }
   ],
   "source": [
    "somme(\"un texte\", \"avec un autre texte\")"
   ]
  },
  {
   "cell_type": "code",
   "execution_count": 4,
   "id": "b6c8c8ea-350d-402a-88f9-3a820eb5cafc",
   "metadata": {},
   "outputs": [],
   "source": [
    "from turtle import Turtle\n",
    "def dessiner_carre(cote, t:Turtle):\n",
    "    for _ in range(0,4):\n",
    "        t.forward(cote)       \n",
    "        t.left(90)\n"
   ]
  },
  {
   "cell_type": "markdown",
   "id": "8f4888d2-3897-45d7-bdfb-97d1f209299b",
   "metadata": {},
   "source": [
    "## Le typage"
   ]
  },
  {
   "cell_type": "code",
   "execution_count": 5,
   "id": "443882cd-0391-4775-97ed-5975395890b5",
   "metadata": {},
   "outputs": [
    {
     "name": "stdout",
     "output_type": "stream",
     "text": [
      "resultat :  9\n"
     ]
    }
   ],
   "source": [
    "def somme(a:int, b:int) -> int: \n",
    "    \"\"\"\n",
    "    Permet d'ajouter 2 entiers\n",
    "    \n",
    "    Args:\n",
    "        a (int): 1er nombre à ajouter\n",
    "        b (int): 2eme nombre à ajouter\n",
    "    \n",
    "    Returns:\n",
    "        La somme des 2 nombres\n",
    "    \n",
    "    \"\"\"\n",
    "    return a + b\n",
    "\n",
    "print(\"resultat : \",  somme(5, 4))"
   ]
  },
  {
   "cell_type": "code",
   "execution_count": 6,
   "id": "e2ee9885-49de-4b4a-a100-f469f9660a25",
   "metadata": {},
   "outputs": [
    {
     "data": {
      "text/plain": [
       "14"
      ]
     },
     "execution_count": 6,
     "metadata": {},
     "output_type": "execute_result"
    }
   ],
   "source": [
    "def somme(a=8, b=9):\n",
    "    return a + b\n",
    "\n",
    "somme(5)"
   ]
  },
  {
   "cell_type": "code",
   "execution_count": 7,
   "id": "7aad57cd-2ba4-4285-a2ec-fb0dd5d0daa4",
   "metadata": {},
   "outputs": [
    {
     "data": {
      "text/plain": [
       "25"
      ]
     },
     "execution_count": 7,
     "metadata": {},
     "output_type": "execute_result"
    }
   ],
   "source": [
    "somme(5, 20)"
   ]
  },
  {
   "cell_type": "code",
   "execution_count": 8,
   "id": "53dc4e38-ad9b-49f7-af14-18a4d3cfcb50",
   "metadata": {},
   "outputs": [
    {
     "name": "stdout",
     "output_type": "stream",
     "text": [
      "Une chaine...\n"
     ]
    }
   ],
   "source": [
    "print(somme(\"Une chaine\", \"...\"))"
   ]
  },
  {
   "cell_type": "markdown",
   "id": "52663cb4-d20f-490d-855b-03b11d516a55",
   "metadata": {},
   "source": [
    "## Avec des valeurs par défaut"
   ]
  },
  {
   "cell_type": "code",
   "execution_count": 9,
   "id": "41ea7198-3245-4a2d-8a24-bd2e84a91a85",
   "metadata": {
    "tags": []
   },
   "outputs": [
    {
     "name": "stdout",
     "output_type": "stream",
     "text": [
      "resultat :  8\n"
     ]
    }
   ],
   "source": [
    "def somme(a, b = 3):\n",
    "    return a + b\n",
    "\n",
    "print(\"resultat : \",  somme(5))"
   ]
  },
  {
   "cell_type": "code",
   "execution_count": 10,
   "id": "1d98afd0-f8cc-4d25-ad1f-171214b2b813",
   "metadata": {},
   "outputs": [
    {
     "name": "stdout",
     "output_type": "stream",
     "text": [
      "Je peux concatener un nombre indéfini de valeurs\n",
      "Une chaine...\n"
     ]
    }
   ],
   "source": [
    "def concat(* items):\n",
    "    buffer = \"\"\n",
    "    for item in items:\n",
    "        buffer += \" \" + item\n",
    "    return buffer.strip()\n",
    "\n",
    "ret =  concat(\"Je\", \"peux\", \"concatener\", \"un\", \"nombre indéfini de valeurs\")\n",
    "\n",
    "print(ret)\n",
    "print(somme(\"Une chaine\", \"...\"))"
   ]
  },
  {
   "cell_type": "code",
   "execution_count": 11,
   "id": "c91f337b-8f8d-4cc1-a481-46f3366a7930",
   "metadata": {},
   "outputs": [],
   "source": [
    "import math\n",
    "\n",
    "def est_premier(nb):\n",
    "    return not nb == 1 and len([item for item in range(2, int(math.sqrt(nb))+1) if nb % item == 0]) == 0\n",
    "\n",
    "def pgcd(a,b):\n",
    "    while b != 0:\n",
    "        a,b = b, a%b\n",
    "    return a\n"
   ]
  },
  {
   "cell_type": "code",
   "execution_count": 12,
   "id": "9e2cc0e4-bbab-4646-9113-e605dc19fcec",
   "metadata": {},
   "outputs": [
    {
     "name": "stdout",
     "output_type": "stream",
     "text": [
      "False\n",
      "False\n",
      "True\n",
      "True\n",
      "5\n",
      "1\n"
     ]
    }
   ],
   "source": [
    "print(est_premier(1))\n",
    "print(est_premier(6))\n",
    "print(est_premier(3))\n",
    "print(est_premier(23))\n",
    "\n",
    "print(pgcd(10, 5))\n",
    "print(pgcd(33, 4))"
   ]
  },
  {
   "cell_type": "markdown",
   "id": "35dbaae4-a5ce-44cc-a102-4aceb7a166b0",
   "metadata": {},
   "source": [
    "## Les fonctions avec des paramétres nommés"
   ]
  },
  {
   "cell_type": "code",
   "execution_count": 13,
   "id": "0fbca11c-cb27-4c55-a34d-701ee4c79e41",
   "metadata": {},
   "outputs": [
    {
     "data": {
      "text/plain": [
       "'Hello World Nicolas'"
      ]
     },
     "execution_count": 13,
     "metadata": {},
     "output_type": "execute_result"
    }
   ],
   "source": [
    "def concat(a,b,c):\n",
    "    return \"{} {} {}\".format(a,b,c)\n",
    "\n",
    "concat(b = \"World\", a=\"Hello\", c=\"Nicolas\")\n"
   ]
  },
  {
   "cell_type": "code",
   "execution_count": 14,
   "id": "be0caa6d-dd24-4a44-89c1-429412b8953f",
   "metadata": {},
   "outputs": [
    {
     "data": {
      "text/plain": [
       "'Hello World Nicolas'"
      ]
     },
     "execution_count": 14,
     "metadata": {},
     "output_type": "execute_result"
    }
   ],
   "source": [
    "concat(c = \"Nicolas\", b = \"World\", a=\"Hello\")"
   ]
  },
  {
   "cell_type": "markdown",
   "id": "997ced6b-7e97-4bba-b3a7-c494c92ee427",
   "metadata": {},
   "source": [
    "## Les fonctions avec des paramétres indéfinis"
   ]
  },
  {
   "cell_type": "code",
   "execution_count": 15,
   "id": "f3df7d46-e6a2-4855-93ef-a527cf9f1382",
   "metadata": {},
   "outputs": [
    {
     "data": {
      "text/plain": [
       "'Je peux concatener un nombre indéfini de valeurs'"
      ]
     },
     "execution_count": 15,
     "metadata": {},
     "output_type": "execute_result"
    }
   ],
   "source": [
    "def concat(*items):\n",
    "    buffer = \"\"\n",
    "    for item in items:\n",
    "        buffer += \" \" + item\n",
    "    return buffer.strip()\n",
    "\n",
    "concat(\"Je\", \"peux\", \"concatener\", \n",
    "       \"un\", \"nombre indéfini de valeurs\")"
   ]
  },
  {
   "cell_type": "markdown",
   "id": "48d162c4-f363-436c-b882-03bca85f680a",
   "metadata": {},
   "source": [
    "## Les fonctions avec des paramétres nommés indéfinis"
   ]
  },
  {
   "cell_type": "code",
   "execution_count": 16,
   "id": "b5880c0b-bf7c-42d1-ac8c-f4d007f9973e",
   "metadata": {},
   "outputs": [
    {
     "name": "stdout",
     "output_type": "stream",
     "text": [
      "p1 : MaValeur1\n",
      "p2 : 0\n",
      "p3 : une autre valeur\n"
     ]
    }
   ],
   "source": [
    "def afficher(**arguments):\n",
    "    for key, value in arguments.items():\n",
    "        print(f\"{key} : {value}\")\n",
    "\n",
    "afficher(p1=\"MaValeur1\", p2=0, p3=\"une autre valeur\")\n",
    "    "
   ]
  },
  {
   "cell_type": "code",
   "execution_count": 17,
   "id": "0b92ba56-ab19-4a7c-9e58-b162aad522cf",
   "metadata": {},
   "outputs": [
    {
     "name": "stdout",
     "output_type": "stream",
     "text": [
      "1 2 3\n",
      "p1 : MaValeur1\n",
      "p2 : 0\n",
      "p3 : une autre valeur\n"
     ]
    }
   ],
   "source": [
    "def afficher(*tab, **arguments):\n",
    "    print(*tab)\n",
    "    for key, value in arguments.items():\n",
    "        print(f\"{key} : {value}\")\n",
    "\n",
    "afficher(\"1\", \"2\", \"3\", \n",
    "         p1=\"MaValeur1\", p2=0, p3=\"une autre valeur\")\n",
    "    "
   ]
  },
  {
   "cell_type": "markdown",
   "id": "8e300001-fce6-4ea8-9586-07d86ca26d5a",
   "metadata": {},
   "source": [
    "## Les lambda"
   ]
  },
  {
   "cell_type": "code",
   "execution_count": 18,
   "id": "fd8330d5-0bbe-4038-a6e1-aabec446d0b3",
   "metadata": {},
   "outputs": [
    {
     "name": "stdout",
     "output_type": "stream",
     "text": [
      "80 121 116 104 111 110\n"
     ]
    }
   ],
   "source": [
    "nombres = [-4, 80, -1, 121, -18, 116, 104, 111,110]\n",
    "nombres_positifs =  filter(lambda a: a>0, nombres)\n",
    "print(*nombres_positifs)"
   ]
  },
  {
   "cell_type": "code",
   "execution_count": 19,
   "id": "856de485-0b05-4eeb-b0da-e10b95f37f9a",
   "metadata": {},
   "outputs": [
    {
     "name": "stdout",
     "output_type": "stream",
     "text": [
      "619\n"
     ]
    }
   ],
   "source": [
    "from functools import reduce\n",
    "somme = reduce(lambda acc, item: acc+item, nombres, 0)\n",
    "print(somme)"
   ]
  },
  {
   "cell_type": "code",
   "execution_count": 20,
   "id": "7a1fac5c-595c-43e6-a144-f9e5650c9396",
   "metadata": {},
   "outputs": [
    {
     "name": "stdout",
     "output_type": "stream",
     "text": [
      "Python\n"
     ]
    }
   ],
   "source": [
    "nombres_positifs =  filter(lambda a: a>0, nombres)\n",
    "lettres = map(lambda item: chr(item), nombres_positifs)\n",
    "print(\"\".join(lettres))"
   ]
  },
  {
   "cell_type": "code",
   "execution_count": 21,
   "id": "0bdbc538-97b6-4dae-a104-e47d5d07d2f7",
   "metadata": {},
   "outputs": [
    {
     "name": "stdout",
     "output_type": "stream",
     "text": [
      "15\n"
     ]
    }
   ],
   "source": [
    "def table_multiplication(n):\n",
    "    return lambda a:n*a\n",
    "\n",
    "table5 = table_multiplication(5)\n",
    "print(table5(3))"
   ]
  },
  {
   "cell_type": "code",
   "execution_count": 22,
   "id": "d41887e3-b7df-440d-9e61-5f3a0cf128af",
   "metadata": {},
   "outputs": [
    {
     "name": "stdout",
     "output_type": "stream",
     "text": [
      "18\n"
     ]
    }
   ],
   "source": [
    "table2 = table_multiplication(2)\n",
    "print(table2(9))"
   ]
  },
  {
   "cell_type": "code",
   "execution_count": null,
   "id": "262a49be-09e6-4115-af91-698afd1fb393",
   "metadata": {},
   "outputs": [],
   "source": []
  },
  {
   "cell_type": "code",
   "execution_count": null,
   "id": "0cedd1d8-061b-40b3-b6f7-d97996d01a24",
   "metadata": {},
   "outputs": [],
   "source": [
    "z"
   ]
  }
 ],
 "metadata": {
  "kernelspec": {
   "display_name": "Python 3 (ipykernel)",
   "language": "python",
   "name": "python3"
  },
  "language_info": {
   "codemirror_mode": {
    "name": "ipython",
    "version": 3
   },
   "file_extension": ".py",
   "mimetype": "text/x-python",
   "name": "python",
   "nbconvert_exporter": "python",
   "pygments_lexer": "ipython3",
   "version": "3.8.3"
  },
  "toc-showcode": false
 },
 "nbformat": 4,
 "nbformat_minor": 5
}
