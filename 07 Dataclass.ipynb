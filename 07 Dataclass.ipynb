{
 "cells": [
  {
   "cell_type": "markdown",
   "id": "fcae991b-6df0-458a-9403-5f832dbc29a7",
   "metadata": {
    "tags": []
   },
   "source": [
    "## Representation de données"
   ]
  },
  {
   "cell_type": "code",
   "execution_count": null,
   "id": "a8cbddd5-2ad3-4155-8422-ccc61ef57e25",
   "metadata": {},
   "outputs": [],
   "source": []
  },
  {
   "cell_type": "code",
   "execution_count": 26,
   "id": "087ac433-e1ef-4b08-9c5f-1768dae4a354",
   "metadata": {},
   "outputs": [],
   "source": [
    "from dataclasses import dataclass\n",
    "\n",
    "@dataclass\n",
    "class PompeEssence:\n",
    "    libelle: str\n",
    "    prix: float"
   ]
  },
  {
   "cell_type": "code",
   "execution_count": 13,
   "id": "6800bbb8-8347-4055-901a-23ec0a3c9ec2",
   "metadata": {},
   "outputs": [],
   "source": [
    "sp95 = PompeEssence(\"E10\", 1.814)"
   ]
  },
  {
   "cell_type": "markdown",
   "id": "226cf084-23b5-4f8e-ab06-57b195d40220",
   "metadata": {},
   "source": [
    "### Methodes d'affichage présentes"
   ]
  },
  {
   "cell_type": "code",
   "execution_count": 14,
   "id": "ac561556-c69e-45ab-b884-11ee75a83d82",
   "metadata": {},
   "outputs": [
    {
     "name": "stdout",
     "output_type": "stream",
     "text": [
      "PompeEssence(libelle='E10', prix=1.814)\n"
     ]
    }
   ],
   "source": [
    "print(sp95)"
   ]
  },
  {
   "cell_type": "code",
   "execution_count": 17,
   "id": "a0253cda-6237-468b-a3e5-9719c02dc8d4",
   "metadata": {},
   "outputs": [
    {
     "data": {
      "text/plain": [
       "\"PompeEssence(libelle='E10', prix=1.814)\""
      ]
     },
     "execution_count": 17,
     "metadata": {},
     "output_type": "execute_result"
    }
   ],
   "source": [
    "repr(sp95)"
   ]
  },
  {
   "cell_type": "markdown",
   "id": "d4ecbd6f-36f5-4779-b16c-5943a2c2496f",
   "metadata": {},
   "source": [
    "## get / set  disponibles"
   ]
  },
  {
   "cell_type": "code",
   "execution_count": 19,
   "id": "bfa0b26c-14e8-4b95-aa59-92d732db3ebb",
   "metadata": {},
   "outputs": [
    {
     "name": "stdout",
     "output_type": "stream",
     "text": [
      "E10 Prix :  1.814\n"
     ]
    }
   ],
   "source": [
    "print(sp95.libelle, \"Prix : \", sp95.prix)"
   ]
  },
  {
   "cell_type": "code",
   "execution_count": 22,
   "id": "fb516bbd-4bde-40c8-a431-8f90b5c1cbfd",
   "metadata": {},
   "outputs": [],
   "source": [
    "sp95.libelle = \"Super 95\""
   ]
  },
  {
   "cell_type": "code",
   "execution_count": 24,
   "id": "a7cd3af9-5dfb-469a-ab09-9f679d1ee0e6",
   "metadata": {},
   "outputs": [
    {
     "data": {
      "text/plain": [
       "PompeEssence(libelle='Super 95', prix=1.814)"
      ]
     },
     "execution_count": 24,
     "metadata": {},
     "output_type": "execute_result"
    }
   ],
   "source": [
    "sp95"
   ]
  },
  {
   "cell_type": "markdown",
   "id": "7219547b-812d-4f4d-8b3b-a3f54bf958c3",
   "metadata": {},
   "source": [
    "### Equalité à partir de la valeur de toutes les propriétés"
   ]
  },
  {
   "cell_type": "code",
   "execution_count": 28,
   "id": "361f07ae-bada-463e-9922-d8b5f5c7cfab",
   "metadata": {},
   "outputs": [
    {
     "data": {
      "text/plain": [
       "True"
      ]
     },
     "execution_count": 28,
     "metadata": {},
     "output_type": "execute_result"
    }
   ],
   "source": [
    "sp95 = PompeEssence(\"E10\", 1.814)\n",
    "sp95_v2 = PompeEssence(\"E10\", 1.814)\n",
    "\n",
    "sp95 == sp95_v2"
   ]
  },
  {
   "cell_type": "code",
   "execution_count": 29,
   "id": "83379166-df37-4cb8-bf53-a7d6c59bfa19",
   "metadata": {},
   "outputs": [
    {
     "data": {
      "text/plain": [
       "False"
      ]
     },
     "execution_count": 29,
     "metadata": {},
     "output_type": "execute_result"
    }
   ],
   "source": [
    "gazole = PompeEssence(\"Gazole\", 1.998)\n",
    "sp95 == gazole"
   ]
  },
  {
   "cell_type": "markdown",
   "id": "d02b3609-2328-450b-b552-b09b5d3b7e4c",
   "metadata": {},
   "source": [
    "# Déclaration des propriétés"
   ]
  },
  {
   "cell_type": "markdown",
   "id": "32e48f71-a943-4a18-aa76-fe052f458abf",
   "metadata": {},
   "source": [
    "Toutes les propriétés doivent être définies lors de la déclaration de la dataclass."
   ]
  },
  {
   "cell_type": "code",
   "execution_count": 31,
   "id": "17353ac5-366c-4d30-af96-5585dce87542",
   "metadata": {},
   "outputs": [],
   "source": [
    "@dataclass\n",
    "class PompeEssence:\n",
    "    libelle: str\n",
    "    prix: float\n",
    "    ville:str"
   ]
  },
  {
   "cell_type": "code",
   "execution_count": 32,
   "id": "9626e0f5-a5b6-4978-9481-8238a70577a8",
   "metadata": {},
   "outputs": [
    {
     "ename": "TypeError",
     "evalue": "__init__() missing 1 required positional argument: 'ville'",
     "output_type": "error",
     "traceback": [
      "\u001b[0;31m---------------------------------------------------------------------------\u001b[0m",
      "\u001b[0;31mTypeError\u001b[0m                                 Traceback (most recent call last)",
      "Cell \u001b[0;32mIn [32], line 1\u001b[0m\n\u001b[0;32m----> 1\u001b[0m gazole \u001b[38;5;241m=\u001b[39m \u001b[43mPompeEssence\u001b[49m\u001b[43m(\u001b[49m\u001b[38;5;124;43m\"\u001b[39;49m\u001b[38;5;124;43mGazole\u001b[39;49m\u001b[38;5;124;43m\"\u001b[39;49m\u001b[43m,\u001b[49m\u001b[43m \u001b[49m\u001b[38;5;241;43m1.998\u001b[39;49m\u001b[43m)\u001b[49m\n",
      "\u001b[0;31mTypeError\u001b[0m: __init__() missing 1 required positional argument: 'ville'"
     ]
    }
   ],
   "source": [
    "gazole = PompeEssence(\"Gazole\", 1.998)"
   ]
  },
  {
   "cell_type": "code",
   "execution_count": 33,
   "id": "c07d5f1f-6537-444c-bc82-4b96e1adf24e",
   "metadata": {},
   "outputs": [],
   "source": [
    "gazole = PompeEssence(\"Gazole\", 1.998, \"Noyon\")"
   ]
  },
  {
   "cell_type": "code",
   "execution_count": 34,
   "id": "cfc91e4e-5db7-48fd-9bb3-e48ef2ff0e86",
   "metadata": {},
   "outputs": [
    {
     "data": {
      "text/plain": [
       "'Noyon'"
      ]
     },
     "execution_count": 34,
     "metadata": {},
     "output_type": "execute_result"
    }
   ],
   "source": [
    "gazole.ville"
   ]
  },
  {
   "cell_type": "markdown",
   "id": "b9443af3-77bc-47de-bda1-83447671a796",
   "metadata": {},
   "source": [
    "Le contructeur prend les paramétres dans lordre de déclaration.\n",
    "\n",
    "Il est possible de nommmer les paramétres lors de l'appel du constructeur"
   ]
  },
  {
   "cell_type": "code",
   "execution_count": 35,
   "id": "081ef156-85c1-465b-a9ab-97e1000a576a",
   "metadata": {},
   "outputs": [],
   "source": [
    "sp95 = PompeEssence(ville=\"NOYON\", libelle=\"E10\", prix=1.814)"
   ]
  },
  {
   "cell_type": "code",
   "execution_count": 36,
   "id": "3cee4dee-e322-4c5d-a423-080287c1044f",
   "metadata": {
    "collapsed": true,
    "jupyter": {
     "outputs_hidden": true
    },
    "tags": []
   },
   "outputs": [
    {
     "data": {
      "text/plain": [
       "'NOYON'"
      ]
     },
     "execution_count": 36,
     "metadata": {},
     "output_type": "execute_result"
    }
   ],
   "source": [
    "sp95.ville"
   ]
  },
  {
   "cell_type": "markdown",
   "id": "302d235a-f06c-445e-bc01-9efab3311328",
   "metadata": {},
   "source": [
    "Il est possible d'ajouter des paramétres non définis"
   ]
  },
  {
   "cell_type": "code",
   "execution_count": 62,
   "id": "cf4282ff-5b44-4393-a230-69ba75d7417d",
   "metadata": {},
   "outputs": [
    {
     "data": {
      "text/plain": [
       "'2022-11-17T18:07:45+00:00'"
      ]
     },
     "execution_count": 62,
     "metadata": {},
     "output_type": "execute_result"
    }
   ],
   "source": [
    "sp95.prix_maj = \"2022-11-17T18:07:45+00:00\"\n",
    "sp95.prix_maj"
   ]
  },
  {
   "cell_type": "markdown",
   "id": "ad1807d2-6ba7-4fd4-baf5-b79c8b867dcb",
   "metadata": {},
   "source": [
    "Mais ils ne seront pas présents dans les méthodes d'affichage"
   ]
  },
  {
   "cell_type": "code",
   "execution_count": 64,
   "id": "08cd67a9-ef73-4bed-84ce-114a90e85ac4",
   "metadata": {},
   "outputs": [
    {
     "data": {
      "text/plain": [
       "PompeEssence(prix=0.959, libelle='E85', ville='Noyon')"
      ]
     },
     "execution_count": 64,
     "metadata": {},
     "output_type": "execute_result"
    }
   ],
   "source": [
    "sp95"
   ]
  },
  {
   "cell_type": "markdown",
   "id": "e81a315b-10e5-4223-b103-ab50bdb56b8c",
   "metadata": {},
   "source": [
    "### Rendre des paramétres optionnels"
   ]
  },
  {
   "cell_type": "markdown",
   "id": "9529d05a-bba3-430f-afb0-42124ef5642f",
   "metadata": {},
   "source": [
    "En passant des valeurs par défaut. Les propriétés par défaut sont à déclarer apres les propriétés à renseigner."
   ]
  },
  {
   "cell_type": "code",
   "execution_count": 51,
   "id": "7b8965ce-c798-4881-8763-eb80511669e1",
   "metadata": {},
   "outputs": [],
   "source": [
    "@dataclass\n",
    "class PompeEssence:\n",
    "    prix: float\n",
    "    libelle: str\n",
    "    ville: str = None\n",
    " "
   ]
  },
  {
   "cell_type": "code",
   "execution_count": 49,
   "id": "0ea7caf1-92c5-4df8-bae8-72a3c49bff49",
   "metadata": {},
   "outputs": [],
   "source": [
    "sp95 = PompeEssence(libelle=\"E10\", prix=1.814)"
   ]
  },
  {
   "cell_type": "markdown",
   "id": "86b5969a-1280-4f7c-b21b-ad8e06771999",
   "metadata": {},
   "source": [
    "# Personnaliser et ajouter des méthodes"
   ]
  },
  {
   "cell_type": "code",
   "execution_count": 94,
   "id": "f941279d-1623-4e52-bbb8-3cad03ea5ac3",
   "metadata": {},
   "outputs": [],
   "source": [
    "import json\n",
    "\n",
    "@dataclass\n",
    "class PompeEssence:\n",
    "    prix: float\n",
    "    libelle: str\n",
    "    ville: str = None\n",
    "    \n",
    "    @staticmethod\n",
    "    def create_from_dict(data):\n",
    "        return PompeEssence(data[\"prix_valeur\"], data[\"prix_nom\"], data[\"ville\"])\n",
    "    \n",
    "    def to_json(self):\n",
    "        return json.dumps(self.__dict__, indent=2)"
   ]
  },
  {
   "cell_type": "code",
   "execution_count": 95,
   "id": "a1258572-8e0c-41fc-a5ed-27aed1d132ac",
   "metadata": {},
   "outputs": [
    {
     "data": {
      "text/plain": [
       "PompeEssence(prix=0.959, libelle='E85', ville='Noyon')"
      ]
     },
     "execution_count": 95,
     "metadata": {},
     "output_type": "execute_result"
    }
   ],
   "source": [
    "data = {\n",
    "    \"ville\":\"Noyon\",\n",
    "    \"prix_valeur\":0.959,\n",
    "    \"prix_nom\":\"E85\",\n",
    "}\n",
    "sp95 = PompeEssence.create_from_dict(data)\n",
    "sp95"
   ]
  },
  {
   "cell_type": "code",
   "execution_count": 97,
   "id": "159ec0ba-88cb-4eb5-ba61-b78669ca7aef",
   "metadata": {},
   "outputs": [
    {
     "name": "stdout",
     "output_type": "stream",
     "text": [
      "{\n",
      "  \"prix\": 0.959,\n",
      "  \"libelle\": \"E85\",\n",
      "  \"ville\": \"Noyon\"\n",
      "}\n"
     ]
    }
   ],
   "source": [
    "print(sp95.to_json())"
   ]
  }
 ],
 "metadata": {
  "kernelspec": {
   "display_name": "Python 3 (ipykernel)",
   "language": "python",
   "name": "python3"
  },
  "language_info": {
   "codemirror_mode": {
    "name": "ipython",
    "version": 3
   },
   "file_extension": ".py",
   "mimetype": "text/x-python",
   "name": "python",
   "nbconvert_exporter": "python",
   "pygments_lexer": "ipython3",
   "version": "3.8.3"
  }
 },
 "nbformat": 4,
 "nbformat_minor": 5
}
